{
 "cells": [
  {
   "cell_type": "markdown",
   "metadata": {
    "id": "K1IXlLW65B35"
   },
   "source": [
    "# STATS 306, Winter 2021\n",
    "## Take-home Midterm Exam\n",
    "\n",
    "Assigned: March 8, 2021  \n",
    "Due: March 11, 2021 (canvas will accept uploads until 3 am EST on March 12)\n",
    "\n",
    "There are a total of **four problems** for a total of **30 points** (problems are worth similar but not exactly the same number of points)\n",
    "\n",
    "**PLEASE READ EXAM INSTRUCTIONS** (available [here](https://github.com/ambujtewari/stats306-winter2021/blob/main/midterm/README.md)) before proceeding further.\n",
    "\n",
    "Links to jump directly to problems:\n",
    "\n",
    "- [Problem 1](#Problem-1): CO2 emissions\n",
    "- [Problem 2](#Problem-2): Global population\n",
    "- [Problem 3](#Problem-3): Happiness score\n",
    "- [Problem 4](#Problem-4): Reversal paradox"
   ]
  },
  {
   "cell_type": "markdown",
   "metadata": {
    "id": "RBzU1JbW5B39"
   },
   "source": [
    "### Required Packages"
   ]
  },
  {
   "cell_type": "code",
   "execution_count": 1,
   "metadata": {
    "colab": {
     "base_uri": "https://localhost:8080/"
    },
    "id": "K1YtACqN5B3-",
    "outputId": "ffb1417b-6876-4973-a6ce-7b74d0cd6b27"
   },
   "outputs": [
    {
     "name": "stderr",
     "output_type": "stream",
     "text": [
      "── \u001b[1mAttaching packages\u001b[22m ─────────────────────────────────────── tidyverse 1.3.0 ──\n",
      "\n",
      "\u001b[32m✔\u001b[39m \u001b[34mggplot2\u001b[39m 3.3.3     \u001b[32m✔\u001b[39m \u001b[34mpurrr  \u001b[39m 0.3.4\n",
      "\u001b[32m✔\u001b[39m \u001b[34mtibble \u001b[39m 3.0.6     \u001b[32m✔\u001b[39m \u001b[34mdplyr  \u001b[39m 1.0.4\n",
      "\u001b[32m✔\u001b[39m \u001b[34mtidyr  \u001b[39m 1.1.2     \u001b[32m✔\u001b[39m \u001b[34mstringr\u001b[39m 1.4.0\n",
      "\u001b[32m✔\u001b[39m \u001b[34mreadr  \u001b[39m 1.4.0     \u001b[32m✔\u001b[39m \u001b[34mforcats\u001b[39m 0.5.1\n",
      "\n",
      "── \u001b[1mConflicts\u001b[22m ────────────────────────────────────────── tidyverse_conflicts() ──\n",
      "\u001b[31m✖\u001b[39m \u001b[34mdplyr\u001b[39m::\u001b[32mfilter()\u001b[39m masks \u001b[34mstats\u001b[39m::filter()\n",
      "\u001b[31m✖\u001b[39m \u001b[34mdplyr\u001b[39m::\u001b[32mlag()\u001b[39m    masks \u001b[34mstats\u001b[39m::lag()\n",
      "\n"
     ]
    }
   ],
   "source": [
    "library(tidyverse)"
   ]
  },
  {
   "cell_type": "markdown",
   "metadata": {
    "id": "9iRl17qK5B4A"
   },
   "source": [
    "### Statement of Academic Integrity"
   ]
  },
  {
   "cell_type": "markdown",
   "metadata": {
    "id": "TnHpdofQ5B4B"
   },
   "source": [
    "**(1)**  \n",
    "\n",
    "_\"I have read the exam instructions. All work submitted is my own. If I used any resources, physical, digital, or otherwise, I have listed them below. I have fully complied with all standards of academic integrity.\"_  \n",
    "\n",
    "Type your full name below in lieu of a physical signature."
   ]
  },
  {
   "cell_type": "markdown",
   "metadata": {
    "id": "MfeaHWhA5B4C"
   },
   "source": [
    "#### Text solution cell 0.1\n",
    "\n",
    "replace this line with your full name"
   ]
  },
  {
   "cell_type": "markdown",
   "metadata": {
    "id": "-aMOeulx5B4D"
   },
   "source": [
    "**(2)** List any resources you used that are not mentioned in the exam instructions"
   ]
  },
  {
   "cell_type": "markdown",
   "metadata": {
    "id": "f2XrW8-U5B4E"
   },
   "source": [
    "#### Text solution cell 0.2\n",
    "\n",
    "Type \"NA\" if you didn't use any resources other than the ones listed in the exam instructions. Otherwise, list all additional resources you used to solve this exam."
   ]
  },
  {
   "cell_type": "markdown",
   "metadata": {
    "id": "mcOQ_k2a5B4E"
   },
   "source": [
    "### Problem 1"
   ]
  },
  {
   "cell_type": "markdown",
   "metadata": {
    "id": "75e2OkyT5B4F"
   },
   "source": [
    "#### CO2 emissions (tonnes per person), _7 points_"
   ]
  },
  {
   "cell_type": "code",
   "execution_count": 2,
   "metadata": {
    "colab": {
     "base_uri": "https://localhost:8080/"
    },
    "id": "j9LQprnx5B4F",
    "outputId": "1c700425-2238-4a77-9ad7-7733af1deae1"
   },
   "outputs": [
    {
     "name": "stderr",
     "output_type": "stream",
     "text": [
      "\n",
      "\u001b[36m──\u001b[39m \u001b[1m\u001b[1mColumn specification\u001b[1m\u001b[22m \u001b[36m────────────────────────────────────────────────────────\u001b[39m\n",
      "cols(\n",
      "  .default = col_double(),\n",
      "  country = \u001b[31mcol_character()\u001b[39m\n",
      ")\n",
      "\u001b[36mℹ\u001b[39m Use \u001b[30m\u001b[47m\u001b[30m\u001b[47m`spec()`\u001b[47m\u001b[30m\u001b[49m\u001b[39m for the full column specifications.\n",
      "\n",
      "\n"
     ]
    }
   ],
   "source": [
    "# DO NOT EDIT THIS CELL\n",
    "\n",
    "# read in data and pivot\n",
    "CO2_df <- read_csv('https://raw.githubusercontent.com/ambujtewari/stats306-winter2021/main/data/co2_emissions_tonnes_per_person.csv')\n",
    "CO2_df <- pivot_longer(CO2_df, `1800`:`2018`, names_to=\"year\", values_to=\"emissions\")"
   ]
  },
  {
   "cell_type": "markdown",
   "metadata": {
    "id": "FqI1P9lV5B4G"
   },
   "source": [
    "**(1)** Using `CO2_df` as a starting point, create a tibble `missing_emissions` with exactly two columms: `year` and `num_missing`. For each value of `year`, the `num_missing` column should be the number of countries whose CO2 emissions data is missing in `CO2_df`. Please make sure to also display the tibble after you create it. _**2 points**_"
   ]
  },
  {
   "cell_type": "code",
   "execution_count": 3,
   "metadata": {
    "id": "VtsvoLSr5B4H"
   },
   "outputs": [],
   "source": [
    "# SOLUTION CELL 1.1\n",
    "\n"
   ]
  },
  {
   "cell_type": "markdown",
   "metadata": {
    "id": "WTmB8Taj5B4I"
   },
   "source": [
    "**(2)** For which years do we have CO2 emissions data for all countries? First write the code to get the answer and then write the answer in the text cell below. _**2 points**_"
   ]
  },
  {
   "cell_type": "code",
   "execution_count": 4,
   "metadata": {
    "id": "8tmYYixa5B4J"
   },
   "outputs": [],
   "source": [
    "# SOLUTION CELL 1.2\n",
    "\n"
   ]
  },
  {
   "cell_type": "markdown",
   "metadata": {
    "id": "SVzPCGWV5B4K"
   },
   "source": [
    "#### Text solution cell 1.2\n",
    "\n",
    "Type your answer here"
   ]
  },
  {
   "cell_type": "markdown",
   "metadata": {
    "id": "sxXnlYUv5B4L"
   },
   "source": [
    "**(3)** Let us call the years you found out in the previous part \"GOOD YEARS\". For all GOOD YEARS, using `CO2_df`, create a scatter plot of `emissions` (y-axis) vs `years` (x-axis) for the three countries: `United States`, `China` and `India`. Make sure each country's data gets plotted in a different color. Additionally, superimpose 3 smooth curves on the scatterplot, one smooth curve for each of the three countries. The smooth curves' colors should match the points' colors. _**3 points**_"
   ]
  },
  {
   "cell_type": "code",
   "execution_count": 5,
   "metadata": {
    "id": "ATA6ackC5B4M"
   },
   "outputs": [],
   "source": [
    "# SOLUTION CELL 1.3\n",
    "\n"
   ]
  },
  {
   "cell_type": "markdown",
   "metadata": {
    "id": "SteLs6-w5B4O"
   },
   "source": [
    "### Problem 2"
   ]
  },
  {
   "cell_type": "markdown",
   "metadata": {
    "id": "SUmCOA-D5B4P"
   },
   "source": [
    "#### Global population, _7 points_"
   ]
  },
  {
   "cell_type": "code",
   "execution_count": 6,
   "metadata": {
    "colab": {
     "base_uri": "https://localhost:8080/"
    },
    "id": "eXbb2smh5B4R",
    "outputId": "ddd01e16-a502-491b-935d-b1222736bd9d"
   },
   "outputs": [
    {
     "name": "stderr",
     "output_type": "stream",
     "text": [
      "\n",
      "\u001b[36m──\u001b[39m \u001b[1m\u001b[1mColumn specification\u001b[1m\u001b[22m \u001b[36m────────────────────────────────────────────────────────\u001b[39m\n",
      "cols(\n",
      "  .default = col_double(),\n",
      "  country = \u001b[31mcol_character()\u001b[39m\n",
      ")\n",
      "\u001b[36mℹ\u001b[39m Use \u001b[30m\u001b[47m\u001b[30m\u001b[47m`spec()`\u001b[47m\u001b[30m\u001b[49m\u001b[39m for the full column specifications.\n",
      "\n",
      "\n"
     ]
    }
   ],
   "source": [
    "# DO NOT EDIT THIS CELL\n",
    "\n",
    "# read in data and pivot\n",
    "pop_df <- read_csv('https://raw.githubusercontent.com/ambujtewari/stats306-winter2021/main/data/population_total.csv')\n",
    "pop_df <- pivot_longer(pop_df, `1800`:`2100`, names_to=\"year\", values_to=\"population\") %>%\n",
    "    mutate(year = as.integer(year))"
   ]
  },
  {
   "cell_type": "markdown",
   "metadata": {
    "id": "CofbWrZo5B4T"
   },
   "source": [
    "**(1)** Using `pop_df` as a starting point, create a tibble with two columns: `year` and `total_pop` where the latter should be the sum of the populations of all countries in a given year. Make sure that `total_pop` has the world population in **billions**. Use this tibble to create a scatter plot of `total_pop` (y-axis) vs. `year` (x-axis). For full credit, write a solution using pipes that does not use any intermediate variables. _**3 points**_"
   ]
  },
  {
   "cell_type": "code",
   "execution_count": 7,
   "metadata": {
    "id": "NeLaHzRr5B4U"
   },
   "outputs": [],
   "source": [
    "# SOLUTION CELL 2.1\n",
    "\n"
   ]
  },
  {
   "cell_type": "markdown",
   "metadata": {
    "id": "APz4Ix1W5B4V"
   },
   "source": [
    "**(2)** Let us define a vector with countries that are often refered to as the \"Group of Seven\"."
   ]
  },
  {
   "cell_type": "code",
   "execution_count": 8,
   "metadata": {
    "id": "FoL3LL9N5B4V"
   },
   "outputs": [],
   "source": [
    "# DON\"T EDIT THIS CELL\n",
    "\n",
    "G7 = c(\"Canada\", \"France\", \"Germany\", \"Italy\", \"Japan\", \"United Kingdom\", \"United States\")"
   ]
  },
  {
   "cell_type": "markdown",
   "metadata": {
    "id": "QHD4dB3J5B4W"
   },
   "source": [
    "Use the `G7` variable above to create a bar chart with these countries on the y-axis and populations of these countries in the year 2000 on the x-axis. Make sure each country's bar is colored with a different color. Use a single command with pipes to do this. _**2 points**_"
   ]
  },
  {
   "cell_type": "code",
   "execution_count": 9,
   "metadata": {
    "id": "gWozeJYr5B4W"
   },
   "outputs": [],
   "source": [
    "# SOLUTION CELL 2.2\n",
    "\n"
   ]
  },
  {
   "cell_type": "markdown",
   "metadata": {
    "id": "VlySQJUZ5B4X"
   },
   "source": [
    "**(3)** Use `geom_line` to plot the populations of the countries in `G7` over time. Make sure `year` is on the x-axis, `population` is on the y-axis and the lines corresponding to different countries are in different colors. _**2 points**_ \n",
    "\n",
    "_Note:_ Population figures for future years are based on projections."
   ]
  },
  {
   "cell_type": "code",
   "execution_count": 10,
   "metadata": {
    "id": "b24U1NzW5B4X"
   },
   "outputs": [],
   "source": [
    "# SOLUTION CELL 2.3\n",
    "\n"
   ]
  },
  {
   "cell_type": "markdown",
   "metadata": {
    "id": "kaUpGh_f5B4a"
   },
   "source": [
    "### Problem 3"
   ]
  },
  {
   "cell_type": "markdown",
   "metadata": {
    "id": "cbG_kdAk5B4a"
   },
   "source": [
    "#### Happiness score, _8 points_"
   ]
  },
  {
   "cell_type": "code",
   "execution_count": 11,
   "metadata": {
    "colab": {
     "base_uri": "https://localhost:8080/"
    },
    "id": "F3TYt5MQ5B4b",
    "outputId": "0e987e02-3853-4b14-f46a-1b4e762eba7e"
   },
   "outputs": [
    {
     "name": "stderr",
     "output_type": "stream",
     "text": [
      "\n",
      "\u001b[36m──\u001b[39m \u001b[1m\u001b[1mColumn specification\u001b[1m\u001b[22m \u001b[36m────────────────────────────────────────────────────────\u001b[39m\n",
      "cols(\n",
      "  country = \u001b[31mcol_character()\u001b[39m,\n",
      "  `2005` = \u001b[32mcol_double()\u001b[39m,\n",
      "  `2006` = \u001b[32mcol_double()\u001b[39m,\n",
      "  `2007` = \u001b[32mcol_double()\u001b[39m,\n",
      "  `2008` = \u001b[32mcol_double()\u001b[39m,\n",
      "  `2009` = \u001b[32mcol_double()\u001b[39m,\n",
      "  `2010` = \u001b[32mcol_double()\u001b[39m,\n",
      "  `2011` = \u001b[32mcol_double()\u001b[39m,\n",
      "  `2012` = \u001b[32mcol_double()\u001b[39m,\n",
      "  `2013` = \u001b[32mcol_double()\u001b[39m,\n",
      "  `2014` = \u001b[32mcol_double()\u001b[39m,\n",
      "  `2015` = \u001b[32mcol_double()\u001b[39m,\n",
      "  `2016` = \u001b[32mcol_double()\u001b[39m,\n",
      "  `2017` = \u001b[32mcol_double()\u001b[39m,\n",
      "  `2018` = \u001b[32mcol_double()\u001b[39m,\n",
      "  `2019` = \u001b[32mcol_double()\u001b[39m\n",
      ")\n",
      "\n",
      "\n"
     ]
    }
   ],
   "source": [
    "# DO NOT EDIT THIS CELL\n",
    "\n",
    "# read in data\n",
    "happy_df <- read_csv(\"https://raw.githubusercontent.com/ambujtewari/stats306-winter2021/main/data/hapiscore_whr.csv\")"
   ]
  },
  {
   "cell_type": "markdown",
   "metadata": {
    "id": "kTUjhNqF5B4c"
   },
   "source": [
    "**(1)** The `happy_df` tibble contains national averages of a \"happiness score\" for various contries for the years 2005 through 2019. The \"happiness score\" is the response to the question:\n",
    "\n",
    "\"Think of a ladder, with the best possible life for you being a 10, and the worst possible life being a 0. Rate your own life on this 0 to 10 scale.\"\n",
    "\n",
    "In the tibble above, these responses on a 0 to 10 scale have been rescaled to the interval \\[0,1\\].\n",
    "\n",
    "In the cell below, write a commmand using pipes to performance the following sequence of operations in the order specified using `happy_df` as a starting point: _**5 points**_\n",
    "\n",
    "1. keep only the columns corresponding to the years 2018 and 2019\n",
    "2. keep only those countries for which both 2018 and 2019 data is available\n",
    "3. create two new columns: `rank_2018` and `rank_2019`. These should be ranks of the country in the years 2018 and 2019 respectively. Use the `rank` function in R (don't worry about tie-breaking options, just use the default) and make sure that counties with *higher* average happiness scores get *smaller* numerical ranks.\n",
    "4. drop the columns corresponding to the years 2018 and 2019 leaving just three columns: `country`, `rank_2018` and `rank_2019`\n",
    "5. keep only those countries that had a rank of 10 or better in _both_ 2018 and 2019\n",
    "\n",
    "Finland is often called the happiest country on earth. In your final result, does it appear with a rank of 1 in both years?"
   ]
  },
  {
   "cell_type": "code",
   "execution_count": 12,
   "metadata": {
    "id": "-HjeroTM5B4c"
   },
   "outputs": [],
   "source": [
    "# SOLUTION CELL 3.1\n",
    "\n"
   ]
  },
  {
   "cell_type": "markdown",
   "metadata": {
    "id": "iIo1IsaC5B4d"
   },
   "source": [
    "#### Text solution cell 3.1\n",
    "\n",
    "Type your answer here"
   ]
  },
  {
   "cell_type": "markdown",
   "metadata": {
    "id": "N5lhZptQ5B4e"
   },
   "source": [
    "**(2)** Before proceeding, let us reshape the data a little bit."
   ]
  },
  {
   "cell_type": "code",
   "execution_count": 13,
   "metadata": {
    "id": "qQ9Lpwzo5B4f"
   },
   "outputs": [],
   "source": [
    "# DO NOT EDIT THIS CELL\n",
    "\n",
    "happy_df_pivoted <- pivot_longer(happy_df, `2005`:`2019`, names_to=\"year\", values_to=\"happiness_score\")"
   ]
  },
  {
   "cell_type": "markdown",
   "metadata": {
    "id": "sKPK_jog5B4f"
   },
   "source": [
    "Now, using `happy_df_pivoted` as the starting point, write a single command using pipes to execute the following steps in order: _**3 points**_\n",
    "\n",
    "1. consider only the data for the years 2015 through 2019 (inclusive)\n",
    "2. compute the average happiness score (put it in a column `average_happiness_score`), for the period 2015-2019, but only for those countries that have no missing data during this period\n",
    "3. sort `average_happiness_score` in descending order and show the top 10 happiest countries for the period 2015-2019"
   ]
  },
  {
   "cell_type": "code",
   "execution_count": 14,
   "metadata": {
    "id": "LSq6lEEG5B4f"
   },
   "outputs": [],
   "source": [
    "# SOLUTION CELL 3.2\n",
    "\n"
   ]
  },
  {
   "cell_type": "markdown",
   "metadata": {
    "id": "Qd8SLXUS5B4g"
   },
   "source": [
    "### Problem 4"
   ]
  },
  {
   "cell_type": "markdown",
   "metadata": {
    "id": "W3AtgBaX5B4j"
   },
   "source": [
    "#### Reversal paradox, _8 points_"
   ]
  },
  {
   "cell_type": "markdown",
   "metadata": {
    "id": "bfay_VI35B4k"
   },
   "source": [
    "![title](https://upload.wikimedia.org/wikipedia/commons/f/fb/Simpsons_paradox_-_animation.gif)"
   ]
  },
  {
   "cell_type": "markdown",
   "metadata": {
    "id": "WEvMBTA15B4k"
   },
   "source": [
    "The **reversal paradox** (also called the **Simpson's paradox**, especially when categorical variables are involved) involves a situation when the overall correlation between a pair of variables, say `X` and `Y`, has one sign (say negative) but when the data is seperated into groups by a third variable `G`, each of the partial correlations (correlations between `X` and `Y` within a group with same value of `G`) have the opposite signs (say positive). See the animation above (courtesy [Wikipedia](https://en.wikipedia.org/wiki/Simpson%27s_paradox)) for an example."
   ]
  },
  {
   "cell_type": "code",
   "execution_count": 15,
   "metadata": {
    "id": "KAd5voHF5B4l"
   },
   "outputs": [],
   "source": [
    "# DO NOT EDIT THIS CELL\n",
    "\n",
    "get_mystery_df <- function(rho,a,b,c,d) {\n",
    "    n <- 500\n",
    "    G <- sample(1:5, n, replace=TRUE)\n",
    "    X <- rnorm(n)\n",
    "    Y <- rnorm(n)\n",
    "    rotated <- cbind(X,Y) %*% matrix(c(1,rho,rho,1),nrow=2,ncol=2)\n",
    "    X <- rotated[,1] + a*G + b\n",
    "    Y <- rotated[,2] + c*G + d\n",
    "    return(tibble(X = X, Y = Y, G = factor(G)))\n",
    "}\n",
    "\n",
    "\n",
    "df1 <- get_mystery_df(0.7,-0.3,0.3*2.5,0.3,-0.3*2.5)"
   ]
  },
  {
   "cell_type": "markdown",
   "metadata": {
    "id": "Rv3jtsy25B4m"
   },
   "source": [
    "**(1)** For the mysterious tibble `df1` created above (has 500 rows and three columns `X`, `Y`, and `G`), create a scatterplot of `X` vs `Y` and superimpose the line of best fit on it (the line should be in *red* color). Make sure that just the line of best fit is plotted (i.e., any error bars should be turned off). _**2 points**_"
   ]
  },
  {
   "cell_type": "code",
   "execution_count": 16,
   "metadata": {
    "id": "tzT-AT7o5B4n"
   },
   "outputs": [],
   "source": [
    "# SOLUTION CELL 4.1\n",
    "\n"
   ]
  },
  {
   "cell_type": "markdown",
   "metadata": {
    "id": "bPv_n2qZ5B4o"
   },
   "source": [
    "**(2)** Create the scatterplot of `X` vs `Y` again. But this time, points corresponding to different value of `G` must be plotted in different colors. Superimpose on this scattetplot the lines of best fit for each group of points (with groups determined by the categorical variable `G`). Make sure _all_ the lines of best fit are in _red_ color. Also make sure to turn off any error bars. _**2 points**_"
   ]
  },
  {
   "cell_type": "code",
   "execution_count": 17,
   "metadata": {
    "id": "xs404ZQB5B4o"
   },
   "outputs": [],
   "source": [
    "# SOLUTION CELL 4.2\n",
    "\n"
   ]
  },
  {
   "cell_type": "markdown",
   "metadata": {
    "id": "uCahf0Rg5B4p"
   },
   "source": [
    "**(3)** Does the tibble `df1` exhibit the reversal paradox? Explain your answer. _**1 point**_"
   ]
  },
  {
   "cell_type": "markdown",
   "metadata": {
    "id": "GFkpfyfv5B4r"
   },
   "source": [
    "#### Text solution cell 4.3\n",
    "\n",
    "Type your answer here"
   ]
  },
  {
   "cell_type": "markdown",
   "metadata": {
    "id": "FrKSKDNI5B4r"
   },
   "source": [
    "**(4)** Let us create a tibble `df2` which has the same dimensions and variables as `df1`."
   ]
  },
  {
   "cell_type": "code",
   "execution_count": 18,
   "metadata": {
    "id": "L_43lO6H5B4s"
   },
   "outputs": [],
   "source": [
    "# DO NOT EDIT THIS CELL\n",
    "\n",
    "df2 <- get_mystery_df(-0.7,1.5,0,1.5,0)"
   ]
  },
  {
   "cell_type": "markdown",
   "metadata": {
    "id": "LVwphgr_5B4s"
   },
   "source": [
    "Repeat part **(1)** above but now for the tibble `df2` defined in the previous cell. _**1 point**_"
   ]
  },
  {
   "cell_type": "code",
   "execution_count": 19,
   "metadata": {
    "id": "4K_T157Q5B4t"
   },
   "outputs": [],
   "source": [
    "# SOLUTION CELL 4.4\n",
    "\n"
   ]
  },
  {
   "cell_type": "markdown",
   "metadata": {
    "id": "KwpJAc2B5B4u"
   },
   "source": [
    "**(5)** Repeat part **(2)** above but now for the tibble `df2`. _**1 point**_"
   ]
  },
  {
   "cell_type": "code",
   "execution_count": 20,
   "metadata": {
    "id": "1ljr8H3R5B4u"
   },
   "outputs": [],
   "source": [
    "# SOLUTION CELL 4.5\n",
    "\n"
   ]
  },
  {
   "cell_type": "markdown",
   "metadata": {
    "id": "LoGyycK45B4w"
   },
   "source": [
    "**(6)** Does the tibble `df2` exhibit the reversal paradox? Explain your answer. _**1 point**_"
   ]
  },
  {
   "cell_type": "markdown",
   "metadata": {
    "id": "1oBCSmmk5B4y"
   },
   "source": [
    "#### Text solution cell 4.6\n",
    "\n",
    "Type your answer here"
   ]
  }
 ],
 "metadata": {
  "colab": {
   "collapsed_sections": [],
   "name": "midterm.ipynb",
   "provenance": []
  },
  "kernelspec": {
   "display_name": "R",
   "language": "R",
   "name": "ir"
  },
  "language_info": {
   "codemirror_mode": "r",
   "file_extension": ".r",
   "mimetype": "text/x-r-source",
   "name": "R",
   "pygments_lexer": "r",
   "version": "4.0.4"
  }
 },
 "nbformat": 4,
 "nbformat_minor": 1
}
