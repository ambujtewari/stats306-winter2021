{
 "cells": [
  {
   "cell_type": "markdown",
   "metadata": {
    "id": "K1IXlLW65B35"
   },
   "source": [
    "# STATS 306, Winter 2021\n",
    "## Take-home Final Exam\n",
    "\n",
    "Assigned: April 21, 2021  \n",
    "Due: April 28, 2021 (canvas will accept uploads until 3 am EDT on April 29)\n",
    "\n",
    "There are a total of **eight problems** for a total of **40 points**. Each problem is worth **5 points**.\n",
    "\n",
    "**PLEASE READ EXAM INSTRUCTIONS** (available [here](https://github.com/ambujtewari/stats306-winter2021/blob/main/final/README.md)) before proceeding further.\n",
    "\n",
    "Links to jump directly to problems:\n",
    "\n",
    "- [Problem 1](#Problem-1): Greenhouse Gases\n",
    "- [Problem 2](#Problem-2): Stars\n",
    "- [Problem 3](#Problem-3): Trump Tweets\n",
    "- [Problem 4](#Problem-4): Movies\n",
    "- [Problem 5](#Problem-5): Test Scores\n",
    "- [Problem 6](#Problem-6): Contagious Diseases\n",
    "- [Problem 7](#Problem-7): Heights I\n",
    "- [Problem 8](#Problem-8): Heights II"
   ]
  },
  {
   "cell_type": "markdown",
   "metadata": {
    "id": "RBzU1JbW5B39"
   },
   "source": [
    "### Required Packages"
   ]
  },
  {
   "cell_type": "code",
   "execution_count": null,
   "metadata": {
    "colab": {
     "base_uri": "https://localhost:8080/"
    },
    "id": "K1YtACqN5B3-",
    "outputId": "978c3d93-6888-49bb-b848-3302f5ccf9b2"
   },
   "outputs": [],
   "source": [
    "library(tidyverse)\n",
    "library(lubridate)"
   ]
  },
  {
   "cell_type": "code",
   "execution_count": null,
   "metadata": {
    "id": "Y6q0d-Figj0a"
   },
   "outputs": [],
   "source": [
    "# DO NOT EDIT THIS CELL\n",
    "data_prefix = \"https://raw.githubusercontent.com/ambujtewari/stats306-winter2021/main/data/\""
   ]
  },
  {
   "cell_type": "markdown",
   "metadata": {
    "id": "9iRl17qK5B4A"
   },
   "source": [
    "### Statement of Academic Integrity"
   ]
  },
  {
   "cell_type": "markdown",
   "metadata": {
    "id": "TnHpdofQ5B4B"
   },
   "source": [
    "**(1)**  \n",
    "\n",
    "_\"I have read the exam instructions. All work submitted is my own. If I used any resources, physical, digital, or otherwise, I have listed them below. I have fully complied with all standards of academic integrity.\"_  \n",
    "\n",
    "Type your full name below in lieu of a physical signature."
   ]
  },
  {
   "cell_type": "markdown",
   "metadata": {
    "id": "MfeaHWhA5B4C"
   },
   "source": [
    "#### Text solution cell 0.1\n",
    "\n",
    "replace this line with your full name"
   ]
  },
  {
   "cell_type": "markdown",
   "metadata": {
    "id": "-aMOeulx5B4D"
   },
   "source": [
    "**(2)** List any resources you used that are not mentioned in the exam instructions"
   ]
  },
  {
   "cell_type": "markdown",
   "metadata": {
    "id": "f2XrW8-U5B4E"
   },
   "source": [
    "#### Text solution cell 0.2\n",
    "\n",
    "Type \"NA\" if you didn't use any resources other than the ones listed in the exam instructions. Otherwise, list all additional resources you used to solve this exam."
   ]
  },
  {
   "cell_type": "markdown",
   "metadata": {
    "id": "mcOQ_k2a5B4E"
   },
   "source": [
    "### Problem 1"
   ]
  },
  {
   "cell_type": "markdown",
   "metadata": {
    "id": "75e2OkyT5B4F"
   },
   "source": [
    "#### Greenhouse Gases, _5 points_"
   ]
  },
  {
   "cell_type": "markdown",
   "metadata": {
    "id": "zBdTTfGigj0f"
   },
   "source": [
    "Concentrations of the three main greenhouse gases: carbon dioxide, methane and nitrous oxide (measurements are from  Antarctica). Selected measurements are provided every 20 years from 1-2000 CE.\n",
    "\n",
    "- `year` Year (CE).\n",
    "- `gas` Gas being measured: carbon dioxide (‘CO2‘), methane (‘CH4‘) or nitrous oxide (‘N2O‘).\n",
    "- `concentration` Gas concentration in ppm by volume (‘CO2‘) or ppb by volume (‘CH4‘,\n",
    "‘N2O‘)."
   ]
  },
  {
   "cell_type": "code",
   "execution_count": null,
   "metadata": {
    "colab": {
     "base_uri": "https://localhost:8080/",
     "height": 277
    },
    "id": "j9LQprnx5B4F",
    "outputId": "6db14c8a-e001-4a8d-a2f7-e169a054f8a8"
   },
   "outputs": [],
   "source": [
    "# DO NOT EDIT THIS CELL\n",
    "\n",
    "gh_gases <- read_csv(str_c(data_prefix, \"gh_gases.csv\"), col_types=\"dcd\")\n",
    "head(gh_gases)"
   ]
  },
  {
   "cell_type": "markdown",
   "metadata": {
    "id": "FqI1P9lV5B4G"
   },
   "source": [
    "**(1)** Create a line plot with `year` on x-axis, `concentration` on y-axis and `gas` in different colors. _1 point_"
   ]
  },
  {
   "cell_type": "code",
   "execution_count": null,
   "metadata": {
    "id": "VtsvoLSr5B4H"
   },
   "outputs": [],
   "source": [
    "# SOLUTION CELL 1.1\n",
    "\n"
   ]
  },
  {
   "cell_type": "markdown",
   "metadata": {
    "id": "WTmB8Taj5B4I"
   },
   "source": [
    "**(2)** We will use the `fullrange` argument of `geom_smooth` plus larger x-axis limits to extrapolate the linear model predictions into the future. For years greater than 1900 (inclusive), create a scatter plot with `year` on x-axis, `concentration` on y-axis with different colors for the three greenhouse gases. Superimpose a linear fit on this plot using `geom_smooth` (turn standard errors off). Make sure to set the x-axis limits from 1900 to 2050 using `xlim()`. Also make sure to use the `fullrange` argument of `geom_smooth` to extend the fitted line to the year 2050. _2 points_"
   ]
  },
  {
   "cell_type": "code",
   "execution_count": null,
   "metadata": {
    "id": "8tmYYixa5B4J"
   },
   "outputs": [],
   "source": [
    "# SOLUTION CELL 1.2\n",
    "\n"
   ]
  },
  {
   "cell_type": "markdown",
   "metadata": {
    "id": "-g1ZdumJgj0k"
   },
   "source": [
    "**(3)** Make the same plot as problem 1.1 above with one important difference: we now want `century` on the x-axis instead of `year`. Since `century` is not given to you directly you will have to create that column. The `century` column should be integer valued and it will take values from 1 through 20. Be careful to handle edge cases properly. E.g., the 19th century includes years from 1801 through 1900 (inclusive). The concentration value plotted for a greenhouse gas during a given century must be the mean concentration of that gas during that century. The three gases should still be plotted in three different colors in your line plot. _2 points_"
   ]
  },
  {
   "cell_type": "code",
   "execution_count": null,
   "metadata": {
    "id": "4R9DWGIogj0l"
   },
   "outputs": [],
   "source": [
    "# SOLUTION CELL 1.3\n",
    "\n"
   ]
  },
  {
   "cell_type": "markdown",
   "metadata": {
    "id": "SteLs6-w5B4O"
   },
   "source": [
    "### Problem 2"
   ]
  },
  {
   "cell_type": "markdown",
   "metadata": {
    "id": "SUmCOA-D5B4P"
   },
   "source": [
    "#### Stars, _5 points_"
   ]
  },
  {
   "cell_type": "markdown",
   "metadata": {
    "id": "m8wZfrOXgj0n"
   },
   "source": [
    "Physical properties of selected stars, including luminosity, temperature, and spectral class.\n",
    "\n",
    "- `star` Name of star.\n",
    "- `magnitude` Absolute magnitude of the star, which is a function of the star’s luminosity and\n",
    "distance to the star.\n",
    "- `temp` Surface temperature in degrees Kelvin (K).\n",
    "- `type` Spectral class of star in the OBAFGKM system."
   ]
  },
  {
   "cell_type": "code",
   "execution_count": null,
   "metadata": {
    "colab": {
     "base_uri": "https://localhost:8080/",
     "height": 277
    },
    "id": "eXbb2smh5B4R",
    "outputId": "55c04cd1-b85d-408c-ce49-bf5742167a23"
   },
   "outputs": [],
   "source": [
    "# DO NOT EDIT THIS CELL\n",
    "\n",
    "stars <- readRDS(url(str_c(data_prefix, \"stars.rds\")))\n",
    "head(stars)"
   ]
  },
  {
   "cell_type": "markdown",
   "metadata": {
    "id": "NSCOMYZ-gj0p"
   },
   "source": [
    "**(1)** Convert the type of column `star` to character and assign the resulting tibble back to the variable `stars`. _1 point_"
   ]
  },
  {
   "cell_type": "code",
   "execution_count": null,
   "metadata": {
    "id": "XV4Bmdu0gj0q"
   },
   "outputs": [],
   "source": [
    "# SOLUTION CELL 2.1\n",
    "\n"
   ]
  },
  {
   "cell_type": "markdown",
   "metadata": {
    "id": "CofbWrZo5B4T"
   },
   "source": [
    "**(2)** Create a scatter plot with `magnitude` on the x-axis and `temp` on the y-axis with stars of different types in different colors. Superimpose a single smooth curve on your scatterplot to visualize the relationship between `magnitude` and `temperature`. Keep standard errors visible. _1 point_"
   ]
  },
  {
   "cell_type": "code",
   "execution_count": null,
   "metadata": {
    "id": "NeLaHzRr5B4U"
   },
   "outputs": [],
   "source": [
    "# SOLUTION CELL 2.2\n",
    "\n"
   ]
  },
  {
   "cell_type": "markdown",
   "metadata": {
    "id": "VlySQJUZ5B4X"
   },
   "source": [
    "**(3)** Perform the following steps, in order, using pipes:\n",
    "\n",
    "- Keep only those rows where the name of the star begins with `*`.\n",
    "- Create a new column `new_star` with the `*` at the beginning of the star's name removed.\n",
    "\n",
    "To get full credit, please make sure that the resulting tibble is fully visible. _2 points_"
   ]
  },
  {
   "cell_type": "code",
   "execution_count": null,
   "metadata": {
    "id": "b24U1NzW5B4X"
   },
   "outputs": [],
   "source": [
    "# SOLUTION CELL 2.3\n",
    "\n"
   ]
  },
  {
   "cell_type": "markdown",
   "metadata": {
    "id": "APz4Ix1W5B4V"
   },
   "source": [
    "**(4)** Make the plot shown [here](https://github.com/ambujtewari/stats306-winter2021/raw/main/final/plots/plot_2-4.jpeg). Don't worry about matching the size and proportions of the example plot. Please make sure to turn off any legend that might appear using the `show.legend` argument. _1 point_\n",
    "\n"
   ]
  },
  {
   "cell_type": "code",
   "execution_count": null,
   "metadata": {
    "id": "gWozeJYr5B4W"
   },
   "outputs": [],
   "source": [
    "# SOLUTION CELL 2.4\n",
    "\n"
   ]
  },
  {
   "cell_type": "markdown",
   "metadata": {
    "id": "kaUpGh_f5B4a"
   },
   "source": [
    "### Problem 3"
   ]
  },
  {
   "cell_type": "markdown",
   "metadata": {
    "id": "cbG_kdAk5B4a"
   },
   "source": [
    "#### Trump Tweets, _5 points_"
   ]
  },
  {
   "cell_type": "markdown",
   "metadata": {
    "id": "2s_0O5-0gj0w"
   },
   "source": [
    "All tweets from Donald Trump’s twitter account from 2009 to 2017 (including tweets from January 1, 2018).\n",
    "\n",
    "- `source` Device or service used to compose tweet.\n",
    "- `id_str` Tweet ID.\n",
    "- `text` Tweet.\n",
    "- `created_at` Data and time tweet was tweeted.\n",
    "- `retweet_count` How many times tweet had been retweeted at time dataset was created.\n",
    "- `in_reply_to_user_id_str` If a reply, the user id of person being replied to.\n",
    "- `favorite_count` Number of times tweet had been favored at time dataset was created.\n",
    "- `is_retweet` A logical telling us if it is a retweet or not."
   ]
  },
  {
   "cell_type": "code",
   "execution_count": null,
   "metadata": {
    "colab": {
     "base_uri": "https://localhost:8080/",
     "height": 475
    },
    "id": "F6ou76O3gj0x",
    "outputId": "31be5db9-06a5-4963-8b3c-cea5388117c9"
   },
   "outputs": [],
   "source": [
    "# DO NOT EDIT THIS CELL\n",
    "\n",
    "trump_tweets <- read_csv(str_c(data_prefix, \"trump_tweets.csv\"), col_types = \"cccTicil\")\n",
    "head(trump_tweets)"
   ]
  },
  {
   "cell_type": "markdown",
   "metadata": {
    "id": "kTUjhNqF5B4c"
   },
   "source": [
    "**(1)** Create a bar chart with `source` on the y-axis and their counts on the x-axis. Make sure your bars in the bar chart are filled with the color named `\"deepskyblue\"`. _1 point_"
   ]
  },
  {
   "cell_type": "code",
   "execution_count": null,
   "metadata": {
    "id": "-HjeroTM5B4c"
   },
   "outputs": [],
   "source": [
    "# SOLUTION CELL 3.1\n",
    "\n"
   ]
  },
  {
   "cell_type": "markdown",
   "metadata": {
    "id": "N5lhZptQ5B4e"
   },
   "source": [
    "**(2)** Make a note of the top three sources in the bar plot above. Now execute the following steps, in order, using pipes:\n",
    "\n",
    "- Create a new column `year` by extracting the year from `created-at` (the function `lubridate::year()` extracts years).\n",
    "- Keep only those tweets that came from the top three sources. You don't have to necessarily store the names of the top three sources in a vector. You can just inspect the bar plot above and type them into your command directly.\n",
    "- Create a bar chart with `year` on the x-axis and their counts on the y-axis. The bars should be filled by colors corresponding to `source` (you should only see three different colors as we restricted ourselved to only top three sources in this problem).\n",
    "\n",
    "_2 points_"
   ]
  },
  {
   "cell_type": "code",
   "execution_count": null,
   "metadata": {
    "id": "LSq6lEEG5B4f"
   },
   "outputs": [],
   "source": [
    "# SOLUTION CELL 3.2\n",
    "\n"
   ]
  },
  {
   "cell_type": "markdown",
   "metadata": {
    "id": "fsAp9NnIgj01"
   },
   "source": [
    "**(3)** Create a new tibble named `golf_summary` that will have two columns: `year` and `mentions_golf`. The `year` column will have years from 2009 through 2018 (inclusive). The `mentions_golf` column should be the count of tweets in a given year that mention `\"golf\"` (or the capitalized version `\"Golf\"`) anywhere in the tweet. _1 point_"
   ]
  },
  {
   "cell_type": "code",
   "execution_count": null,
   "metadata": {
    "id": "NG2QgsDhgj01"
   },
   "outputs": [],
   "source": [
    "# SOLUTION CELL 3.3\n",
    "\n"
   ]
  },
  {
   "cell_type": "code",
   "execution_count": null,
   "metadata": {
    "id": "jQZblUKegj02"
   },
   "outputs": [],
   "source": [
    "# DO NOT EDIT THIS CELL\n",
    "\n",
    "print(golf_summary)"
   ]
  },
  {
   "cell_type": "markdown",
   "metadata": {
    "id": "8s0gCKemgj02"
   },
   "source": [
    "**(4)** Use the `golf_summary` tibble created above to make a bar chart with `year` on the x-axis, `mentions_golf` on the y-axis. Make sure the bars are filled with the color named `\"limegreen\"`. _1 point_"
   ]
  },
  {
   "cell_type": "code",
   "execution_count": null,
   "metadata": {
    "id": "zrCD9XFugj03"
   },
   "outputs": [],
   "source": [
    "# SOLUTION CELL 3.4\n",
    "\n"
   ]
  },
  {
   "cell_type": "markdown",
   "metadata": {
    "id": "T5d5qb5Igj03"
   },
   "source": [
    "### Problem 4"
   ]
  },
  {
   "cell_type": "markdown",
   "metadata": {
    "id": "e5BhH0Ljgj04"
   },
   "source": [
    "#### Movies, _5 points_"
   ]
  },
  {
   "cell_type": "markdown",
   "metadata": {
    "id": "jJMjqVmygj04"
   },
   "source": [
    "A data set from the MovieLens recommender system.\n",
    "\n",
    "- `movieId` Unique ID for the movie.\n",
    "- `title` Movie title (not unique).\n",
    "- `year` Year the movie was released.\n",
    "- `genres` Genres associated with the movie.\n",
    "- `userId` Unique ID for the user.\n",
    "- `rating` A rating between 0 and 5 for the movie.\n",
    "- `timestamp` Date and time the rating was given (in seconds since midnight Coordinated Universal Time (UTC) of January 1, 1970)."
   ]
  },
  {
   "cell_type": "code",
   "execution_count": null,
   "metadata": {
    "id": "raEW_gu6gj05"
   },
   "outputs": [],
   "source": [
    "# DO NOT EDIT THIS CELL\n",
    "\n",
    "movielens <- read_csv(str_c(data_prefix, \"movielens.csv\"), col_types = \"icicidi\")\n",
    "head(movielens)"
   ]
  },
  {
   "cell_type": "markdown",
   "metadata": {
    "id": "HbNYqNy_gj05"
   },
   "source": [
    "Be very careful **not** to use the movie title to uniquely identify movies in this problem. The title *does not* pin the movie down uniquely. For example, the movie with title `\"Alice in Wonderland\"` has been made several times over the years."
   ]
  },
  {
   "cell_type": "code",
   "execution_count": null,
   "metadata": {
    "id": "nepkkxJfgj06"
   },
   "outputs": [],
   "source": [
    "# DO NOT EDIT THIS CELL\n",
    "\n",
    "movielens %>%\n",
    "    filter(title == \"Alice in Wonderland\") %>%\n",
    "    .[['year']] %>%\n",
    "    unique()"
   ]
  },
  {
   "cell_type": "markdown",
   "metadata": {
    "id": "KyjrDgjegj06"
   },
   "source": [
    "**(1)** Use a single piped command to output a tibble that has all movies with at least 100 ratings and a mean rating of at least 4.2 sorted in descending order by mean rating. This tibble should have 4 columns:\n",
    "\n",
    "- `movieId` Unique ID for the movie.\n",
    "- `title` Same title can have multiple IDs but there is going to be a unique title for a given ID.\n",
    "- `mean_rating` mean rating for the movie.\n",
    "- `num_ratings` the number of ratings for this movie in the data set.\n",
    "\n",
    "_1 point_"
   ]
  },
  {
   "cell_type": "code",
   "execution_count": null,
   "metadata": {
    "id": "lZj0PLG6gj07"
   },
   "outputs": [],
   "source": [
    "# SOLUTION CELL 4.1\n",
    "\n"
   ]
  },
  {
   "cell_type": "markdown",
   "metadata": {
    "id": "2oLdWEG0gj07"
   },
   "source": [
    "**(2)** Note that the `genres` column of `movielens` has genres separated by vertical bars. For example, `\"Drama|War\"` means that the movie belongs to Drama and War genres. Write a function `get_single_genres` such that when it is given a character vector with genres as input, it outputs a longer character vector where each genre has been separated out and one entry of the vector just has a single genre. The order in which the genres appear in the input should be preserved. Two test cases for your function are given below. _1 point_\n",
    "\n",
    "```\n",
    "> print(get_single_genres(c(\"Drama\",\n",
    "                    \"Animation|Children|Drama|Musical\",\n",
    "                    \"Thriller\",\n",
    "                    \"Action|Adventure|Sci-Fi|Thriller\",\n",
    "                    \"Drama\")))\n",
    "[1] \"Drama\"     \"Animation\" \"Children\"  \"Drama\"     \"Musical\"   \"Thriller\" \n",
    "[7] \"Action\"    \"Adventure\" \"Sci-Fi\"    \"Thriller\"  \"Drama\"\n",
    "\n",
    "> print(get_single_genres(c(\"Drama|War\",\n",
    "                          \"Action|Adventure|Drama\",\n",
    "                          \"Drama\",\n",
    "                          \"Fantasy|Horror|Romance|Thriller\",\n",
    "                          \"Thriller\")))\n",
    "[1] \"Drama\"     \"War\"       \"Action\"    \"Adventure\" \"Drama\"     \"Drama\"    \n",
    "[7] \"Fantasy\"   \"Horror\"    \"Romance\"   \"Thriller\"  \"Thriller\" \n",
    "```"
   ]
  },
  {
   "cell_type": "code",
   "execution_count": null,
   "metadata": {
    "id": "f26aZ6iJgj08"
   },
   "outputs": [],
   "source": [
    "# SOLUTION CELL 4.2\n",
    "\n"
   ]
  },
  {
   "cell_type": "code",
   "execution_count": null,
   "metadata": {
    "id": "zEeir8kRgj08"
   },
   "outputs": [],
   "source": [
    "# DO NOT EDIT THIS CELL\n",
    "\n",
    "print(get_single_genres(c(\"Drama\",\n",
    "                    \"Animation|Children|Drama|Musical\",\n",
    "                    \"Thriller\",\n",
    "                    \"Action|Adventure|Sci-Fi|Thriller\",\n",
    "                    \"Drama\")))"
   ]
  },
  {
   "cell_type": "code",
   "execution_count": null,
   "metadata": {
    "id": "VI6Mr-JXgj09"
   },
   "outputs": [],
   "source": [
    "# DO NOT EDIT THIS CELL\n",
    "\n",
    "print(get_single_genres(c(\"Drama|War\",\n",
    "                          \"Action|Adventure|Drama\",\n",
    "                          \"Drama\",\n",
    "                          \"Fantasy|Horror|Romance|Thriller\",\n",
    "                          \"Thriller\")))"
   ]
  },
  {
   "cell_type": "markdown",
   "metadata": {
    "id": "G8MxkDeJgj09"
   },
   "source": [
    "**(3)** Create a vector `all_genres` by calling the function `get_single_genres` on the `genres` column of the `movielens` tibble. _1 point_"
   ]
  },
  {
   "cell_type": "code",
   "execution_count": null,
   "metadata": {
    "id": "weaf-mX_gj0-"
   },
   "outputs": [],
   "source": [
    "# SOLUTION CELL 4.3\n",
    "\n"
   ]
  },
  {
   "cell_type": "code",
   "execution_count": null,
   "metadata": {
    "id": "ZEg7J8wtgj0-"
   },
   "outputs": [],
   "source": [
    "# DO NOT EDIT THIS CELL\n",
    "\n",
    "length(all_genres) # should print 265517"
   ]
  },
  {
   "cell_type": "markdown",
   "metadata": {
    "id": "LOjCIRV5gj0_"
   },
   "source": [
    "**(4)** Create a tibble `genre_tbl` that has a single column named `genre`. This column should be identical to the character vector `all_genres` you created above. _1 point_"
   ]
  },
  {
   "cell_type": "code",
   "execution_count": null,
   "metadata": {
    "id": "GnZkIR7egj0_"
   },
   "outputs": [],
   "source": [
    "# SOLUTION CELL 4.4\n",
    "\n"
   ]
  },
  {
   "cell_type": "code",
   "execution_count": null,
   "metadata": {
    "id": "fWPTJgpFgj1A"
   },
   "outputs": [],
   "source": [
    "# DO NOT EDIT THIS CELL\n",
    "\n",
    "head(genre_tbl) # print first few rows of genre_tbl\n",
    "nrow(genre_tbl) # should print 265517"
   ]
  },
  {
   "cell_type": "markdown",
   "metadata": {
    "id": "yDtWgCZCgj1B"
   },
   "source": [
    "**(5)** Use the `genre_tbl` tibble to output a tibble with ten rows and two columns named `genre` and `count`. The `genre` column should be the top 10 most frequent genres in `genre_tbl` sorted in descending order of their frequencies. The `count` column should be the count of how frequently the genre appears in `genre_tbl`. _1 point_"
   ]
  },
  {
   "cell_type": "code",
   "execution_count": null,
   "metadata": {
    "id": "nRVFzHnMgj1B"
   },
   "outputs": [],
   "source": [
    "# SOLUTION CELL 4.5\n",
    "\n"
   ]
  },
  {
   "cell_type": "markdown",
   "metadata": {
    "id": "tn_9PQLigj1B"
   },
   "source": [
    "### Problem 5"
   ]
  },
  {
   "cell_type": "markdown",
   "metadata": {
    "id": "rX9Gl7kXgj1C"
   },
   "source": [
    "#### Test Scores, _5 points_"
   ]
  },
  {
   "cell_type": "markdown",
   "metadata": {
    "id": "BY_DkKfbgj1D"
   },
   "source": [
    "Distribution of scores for algebra, global history, biology, English, and U.S. history exams.\n",
    "\n",
    "- `score` Test score from 0 to 100.\n",
    "- `integrated_algebra` Score frequency on Algebra exam.\n",
    "- `global_history` Score frequency on global history exam.\n",
    "- `living_environment` Score frequency on biology exam.\n",
    "- `english` Score frequency on English exam.\n",
    "- `us_history` Score frequency on U.S. history exam."
   ]
  },
  {
   "cell_type": "code",
   "execution_count": null,
   "metadata": {
    "id": "wEBCPM3qgj1D"
   },
   "outputs": [],
   "source": [
    "# DO NOT EDIT THIS CELL\n",
    "\n",
    "scores <- read_csv(str_c(data_prefix, \"scores.csv\"), col_types=\"iiiiii\")\n",
    "head(scores)"
   ]
  },
  {
   "cell_type": "markdown",
   "metadata": {
    "id": "t4oCFlARgj1E"
   },
   "source": [
    "**(1)** Using the appropriate pivoting function, create a tibble `pivoted_scores` that should have three columns: `score`, `subject` and `frequency`. The values appearing in `subject` columns should be `\"integrated_algebra\"`, `\"global_history\"`, `\"living_environment\"`, `\"english\"`, and `\"us_history\"`. For the `score` and `subject` in a given row, the corresponding entry in `frequency` column should be the frequency of that score in the subject. _1 point_ "
   ]
  },
  {
   "cell_type": "code",
   "execution_count": null,
   "metadata": {
    "id": "n3pfzu21gj1E"
   },
   "outputs": [],
   "source": [
    "# SOLUTION CELL 5.1\n",
    "\n"
   ]
  },
  {
   "cell_type": "code",
   "execution_count": null,
   "metadata": {
    "id": "teXFcVSIgj1F"
   },
   "outputs": [],
   "source": [
    "# DO NOT EDIT THIS CELL\n",
    "\n",
    "head(pivoted_scores)"
   ]
  },
  {
   "cell_type": "markdown",
   "metadata": {
    "id": "f2rQdqDtgj1F"
   },
   "source": [
    "**(2)** Using the `ifelse()` function (and not using any loops), change the `frequency` column of `pivoted_scores` so that all missing values in that column are converted to 0. Assign the resulting tibble to the variable `no_na_frequency`. _1 point_"
   ]
  },
  {
   "cell_type": "code",
   "execution_count": null,
   "metadata": {
    "id": "D7vhRTtqgj1G"
   },
   "outputs": [],
   "source": [
    "# SOLUTION CELL 5.2\n",
    "\n"
   ]
  },
  {
   "cell_type": "code",
   "execution_count": null,
   "metadata": {
    "id": "j53Yosz8gj1G"
   },
   "outputs": [],
   "source": [
    "# DO NOT EDIT THIS CELL\n",
    "\n",
    "head(no_na_frequency)"
   ]
  },
  {
   "cell_type": "markdown",
   "metadata": {
    "id": "OIyiq45Vgj1I"
   },
   "source": [
    "**(3)** Starting with the tibble `no_na_frequency` you created above and using a single piped command, execute the following steps in order:\n",
    "\n",
    "- Keep only those rows where `score` is not missing.\n",
    "- Create a tibble with just two columns: `score` and `overall_frequency` where the latter is the sum of the frequencies of a given score across all subjects.\n",
    "- Create a bar chart as shown [here](https://github.com/ambujtewari/stats306-winter2021/raw/main/final/plots/plot_5-3.jpeg). Note that the bars should be filled with the color named `\"tan3\"`. Don't worry about matching the size and proportions of the example plot.\n",
    "- The minimum passing score for these exams is 65. You will notice a spike right at the minimum passing score. Make sure to add the command `geom_vline(xintercept = 65, linetype = \"dashed\")` at the end of your code to clearly see the location of the minimum passing score.\n",
    "\n",
    "_3 points_\n",
    "\n"
   ]
  },
  {
   "cell_type": "code",
   "execution_count": null,
   "metadata": {
    "id": "4Weu3Lczgj1J"
   },
   "outputs": [],
   "source": [
    "# SOLUTION CELL 5.3\n",
    "\n"
   ]
  },
  {
   "cell_type": "markdown",
   "metadata": {
    "id": "Jmyw3diKgj1K"
   },
   "source": [
    "### Problem 6"
   ]
  },
  {
   "cell_type": "markdown",
   "metadata": {
    "id": "NQh4OVW8gj1K"
   },
   "source": [
    "#### Contagious Diseases, _5 points_"
   ]
  },
  {
   "cell_type": "markdown",
   "metadata": {
    "id": "_EofZwnWgj1K"
   },
   "source": [
    "Yearly counts for Hepatitis A, Measles, Mumps, Pertussis, Polio, Rubella, and Smallpox for US\n",
    "states.\n",
    "\n",
    "- `disease` Disease name as a string.\n",
    "- `state` US state name as a string.\n",
    "- `year`\n",
    "- `weeks_reporting` Number of weeks counts were reported that year.\n",
    "- `count` Total number of reported cases.\n",
    "- `population` State population, interpolated for non-census years."
   ]
  },
  {
   "cell_type": "code",
   "execution_count": null,
   "metadata": {
    "id": "K2J8MmlEgj1L"
   },
   "outputs": [],
   "source": [
    "# DO NOT EDIT THIS CELL\n",
    "\n",
    "diseases <- read_csv(str_c(data_prefix, \"diseases.csv\"), col_types=\"cciiii\")\n",
    "head(diseases)"
   ]
  },
  {
   "cell_type": "markdown",
   "metadata": {
    "id": "wxBis5Jhgj1L"
   },
   "source": [
    "**(1)** Write a function named `top_few` that takes a single argument `n` as input and does the following:\n",
    "\n",
    "- First, it creates a vector `top` that has the top `n` states by the highest mean population over the years (ignore missing values in the mean population computation).\n",
    "- Second, it shows line plots of the different disease counts over the years with diseases in different colors. You should only consider states in the `top` vector. Each state in `top` should get its own separate plot.\n",
    "\n",
    "Examples of expected output are shown [here](https://github.com/ambujtewari/stats306-winter2021/raw/main/final/plots/plot_6-1-1.jpeg) (for `top_few(4)`) and [here](https://github.com/ambujtewari/stats306-winter2021/raw/main/final/plots/plot_6-1-2.jpeg) (for `top_few(9)`). Don't worry about matching the size and proportions of the example plots.\n",
    "\n",
    "_3 points_"
   ]
  },
  {
   "cell_type": "code",
   "execution_count": null,
   "metadata": {
    "id": "VCGL1EMfgj1L"
   },
   "outputs": [],
   "source": [
    "# SOLUTION CELL 6.1\n",
    "\n"
   ]
  },
  {
   "cell_type": "code",
   "execution_count": null,
   "metadata": {
    "id": "vZOUbWprgj1M"
   },
   "outputs": [],
   "source": [
    "# DO NOT EDIT THIS CELL\n",
    "\n",
    "top_few(4)"
   ]
  },
  {
   "cell_type": "code",
   "execution_count": null,
   "metadata": {
    "id": "TDmZDCLWgj1M"
   },
   "outputs": [],
   "source": [
    "# DO NOT EDIT THIS CELL\n",
    "\n",
    "top_few(9)"
   ]
  },
  {
   "cell_type": "markdown",
   "metadata": {
    "id": "OCOkUko2gj1N"
   },
   "source": [
    "**(2)** Use the `diseases` tibble to create the plot shown [here](https://github.com/ambujtewari/stats306-winter2021/raw/main/final/plots/plot_6-2.jpeg). The y-axis in this plot shows `mean_weeks_reporting` which is the mean value (computed with missing values ignored) of `weeks_reporting` over all states for a given disease in a given year. The opacity of the smooth curves should be normal but the points should be plotted with a opacity value of `0.25`. _2 points_"
   ]
  },
  {
   "cell_type": "code",
   "execution_count": null,
   "metadata": {
    "id": "rud4DgDIgj1N"
   },
   "outputs": [],
   "source": [
    "# SOLUTION CELL 6.2\n",
    "\n"
   ]
  },
  {
   "cell_type": "markdown",
   "metadata": {
    "id": "Qd8SLXUS5B4g"
   },
   "source": [
    "### Problem 7"
   ]
  },
  {
   "cell_type": "markdown",
   "metadata": {
    "id": "W3AtgBaX5B4j"
   },
   "source": [
    "#### Heights I, _5 points_"
   ]
  },
  {
   "cell_type": "markdown",
   "metadata": {
    "id": "mkQk6GdZgj1O"
   },
   "source": [
    "Students were asked to report their height (in inches) and sex in an online form.\n",
    "\n",
    "- `time_stamp` Time and date of the entry.\n",
    "- `sex` Sex of the student.\n",
    "- `height` Height as reported by student by filling in a text free box.\n",
    "\n",
    "Note that students were _asked_ to report their heights in inches but not all of them followed that instruction."
   ]
  },
  {
   "cell_type": "code",
   "execution_count": null,
   "metadata": {
    "id": "KAd5voHF5B4l"
   },
   "outputs": [],
   "source": [
    "# DO NOT EDIT THIS CELL\n",
    "\n",
    "heights <- read_csv(str_c(data_prefix, \"heights.csv\"), col_types = \"Tcc\")\n",
    "head(heights)"
   ]
  },
  {
   "cell_type": "markdown",
   "metadata": {
    "id": "Rv3jtsy25B4m"
   },
   "source": [
    "**(1)** After reading the csv file, the `height` column in `heights` is of type character. Add a new column `new_heights` which is the `height` column converted to type double. Assign this new tibble to the variable `heights`. _1 point_"
   ]
  },
  {
   "cell_type": "code",
   "execution_count": null,
   "metadata": {
    "id": "tzT-AT7o5B4n"
   },
   "outputs": [],
   "source": [
    "# SOLUTION CELL 7.1\n",
    "\n"
   ]
  },
  {
   "cell_type": "markdown",
   "metadata": {
    "id": "wm-ZWamogj1Q"
   },
   "source": [
    "You will see a warning saying that NAs were introduced by coercion. That's OK. The issue is that not all values in `heights` are convertible to type double. Let us look at some of them."
   ]
  },
  {
   "cell_type": "code",
   "execution_count": null,
   "metadata": {
    "id": "Pv1wF3UTgj1Q"
   },
   "outputs": [],
   "source": [
    "# DO NOT EDIT THIS CELL\n",
    "\n",
    "heights %>%\n",
    "    filter(is.na(new_height)) %>%\n",
    "    head()"
   ]
  },
  {
   "cell_type": "markdown",
   "metadata": {
    "id": "1cVruPD-gj1Q"
   },
   "source": [
    "**(2)** First, store all rows of `heights` that don't have `new_height` missing in a variable called `heights_noprob`. Next, using `heights_noprob` create a histogram of `new_height` with a `binwidth` of 200 and fill color `\"mediumpurple1\"`. _1 point_"
   ]
  },
  {
   "cell_type": "code",
   "execution_count": null,
   "metadata": {
    "id": "v_4yJFW9gj1R"
   },
   "outputs": [],
   "source": [
    "# SOLUTION CELL 7.2\n",
    "\n"
   ]
  },
  {
   "cell_type": "markdown",
   "metadata": {
    "id": "Yeyt1BTogj1R"
   },
   "source": [
    "You should notice many outliers in the histogram above. Even if people are reporting their heights in centimeters, we should not expect to see values above, say, 214 (7 feet is 213.36 cm)."
   ]
  },
  {
   "cell_type": "markdown",
   "metadata": {
    "id": "yRtYo6rDgj1S"
   },
   "source": [
    "**(3)** Let us zoom into some of the outliers."
   ]
  },
  {
   "cell_type": "code",
   "execution_count": null,
   "metadata": {
    "id": "A1y4Zkrigj1S"
   },
   "outputs": [],
   "source": [
    "# DO NOT EDIT THIS CELL\n",
    "\n",
    "filter(heights_noprob, new_height > 214)"
   ]
  },
  {
   "cell_type": "markdown",
   "metadata": {
    "id": "8jkguVOTgj1T"
   },
   "source": [
    "Replot the histogram of `new_height` in `heights_noprob` this time _excluding_ the outliers we found above. Use the same fill color as in the previous histogram but now use a `binwidth` of 10.\n",
    "\n",
    "_1 point_"
   ]
  },
  {
   "cell_type": "code",
   "execution_count": null,
   "metadata": {
    "id": "m_8FzNP9gj1T"
   },
   "outputs": [],
   "source": [
    "# SOLUTION CELL 7.3\n",
    "\n"
   ]
  },
  {
   "cell_type": "markdown",
   "metadata": {
    "id": "WgrPV3I9gj1U"
   },
   "source": [
    "You should see three clear clusters of reported heights. A reasonable conjecture might be that some people reported their height in feet, some in inches, and some in centimeters. Also note that the biggest cluster corresponds to heights reported in inches since that was what the instructions asked students to report."
   ]
  },
  {
   "cell_type": "markdown",
   "metadata": {
    "id": "bPv_n2qZ5B4o"
   },
   "source": [
    "**(4)** Create a tibble named `height_prob` that should have those rows of `heights` where `new_height` is missing. _1 point_"
   ]
  },
  {
   "cell_type": "code",
   "execution_count": null,
   "metadata": {
    "id": "xs404ZQB5B4o"
   },
   "outputs": [],
   "source": [
    "# SOLUTION CELL 7.4\n",
    "\n"
   ]
  },
  {
   "cell_type": "code",
   "execution_count": null,
   "metadata": {
    "id": "VC_PnJF2gj1V"
   },
   "outputs": [],
   "source": [
    "# DO NOT EDIT THIS CELL\n",
    "\n",
    "head(heights_prob)"
   ]
  },
  {
   "cell_type": "markdown",
   "metadata": {
    "id": "uCahf0Rg5B4p"
   },
   "source": [
    "**(5)** Create a tibble named `heights_quote` that contains those rows of `heights_prob` where `height` has the height reported in the form `x'y''` or several of its variants like `x'y`, `x'y\"` etc. In your solution, separately define a regular expression named `heights_quote_re` that matches only those strings that _entirely consist of_ the following pattern:\n",
    "\n",
    "- the pattern begins with a single digit\n",
    "- followed by a single quote `'`\n",
    "- followed by zero of more occurrences of space (no need to worry about tabs, newlines, etc., just regular space character)\n",
    "- followed by 0-2 occurences of digits (since the inches parts can be up to 2 digits long)\n",
    "- followed by an optional decimal part of the inches. The decimal part is a period `.` followed by 1 or 2 digits. \n",
    "- followed by an optional ending pattern. The optional ending pattern is either two single quotes `''` or a double quote `\"`.\n",
    "\n",
    "_1 point_"
   ]
  },
  {
   "cell_type": "code",
   "execution_count": null,
   "metadata": {
    "id": "ajBMfXRAgj1W"
   },
   "outputs": [],
   "source": [
    "# SOLUTION CELL 7.5\n",
    "\n"
   ]
  },
  {
   "cell_type": "code",
   "execution_count": null,
   "metadata": {
    "id": "qXIsQsK2gj1X"
   },
   "outputs": [],
   "source": [
    "# DO NOT EDIT THIS CELL\n",
    "\n",
    "head(heights_quote)"
   ]
  },
  {
   "cell_type": "markdown",
   "metadata": {
    "id": "314i3Xn_gj1X"
   },
   "source": [
    "### Problem 8"
   ]
  },
  {
   "cell_type": "markdown",
   "metadata": {
    "id": "Y34Zcam7gj1Y"
   },
   "source": [
    "#### Heights II, _5 points_\n",
    "\n",
    "This problem is a continuation of Problem 7."
   ]
  },
  {
   "cell_type": "markdown",
   "metadata": {
    "id": "_DhKuI54gj1Y"
   },
   "source": [
    "**(1)** Create a tibble `heights_prob2` that contains those rows of `heights_prob` that do _not_ match the regular expression `heights_quote_re` that you created in problem 7.5 above. _1 point_"
   ]
  },
  {
   "cell_type": "code",
   "execution_count": null,
   "metadata": {
    "id": "GFkpfyfv5B4r"
   },
   "outputs": [],
   "source": [
    "# SOLUTION CELL 8.1\n",
    "\n"
   ]
  },
  {
   "cell_type": "code",
   "execution_count": null,
   "metadata": {
    "id": "jrPat0Szgj1Z"
   },
   "outputs": [],
   "source": [
    "# DO NOT EDIT THIS CELL\n",
    "\n",
    "heights_prob2"
   ]
  },
  {
   "cell_type": "markdown",
   "metadata": {
    "id": "FrKSKDNI5B4r"
   },
   "source": [
    "**(2)** Create a tibble named `heights_feet_inches` that contains those rows of `heights_prob2` where `height` has the height reported in the form `x feet y inches` or several of its variants like `x ft y inches`, `x foot y inches` etc. In your solution, separately define a regular expression named `heights_feet_inches_re` that matches only those strings that _entirely consist of_ the following pattern:\n",
    "\n",
    "- the pattern begins with zero or more occurrences of any character\n",
    "- followed by `ft` or `feet` or `foot`\n",
    "- followed by zero of more occurrences of any character\n",
    "- followed by `inches`\n",
    "\n",
    "_1 point_"
   ]
  },
  {
   "cell_type": "code",
   "execution_count": null,
   "metadata": {
    "id": "4K_T157Q5B4t"
   },
   "outputs": [],
   "source": [
    "# SOLUTION CELL 8.2\n",
    "\n"
   ]
  },
  {
   "cell_type": "code",
   "execution_count": null,
   "metadata": {
    "id": "u7Bm26dGgj1c"
   },
   "outputs": [],
   "source": [
    "# DO NOT EDIT THIS CELL\n",
    "\n",
    "head(heights_feet_inches)"
   ]
  },
  {
   "cell_type": "markdown",
   "metadata": {
    "id": "KwpJAc2B5B4u"
   },
   "source": [
    "**(3)** Create a tibble `heights_prob3` that contains those rows of `heights_prob2` that do _not_ match the regular expression `heights_feet_inches_re` that you created in problem 8.2 above. _1 point_"
   ]
  },
  {
   "cell_type": "code",
   "execution_count": null,
   "metadata": {
    "id": "1ljr8H3R5B4u"
   },
   "outputs": [],
   "source": [
    "# SOLUTION CELL 8.3\n",
    "\n"
   ]
  },
  {
   "cell_type": "code",
   "execution_count": null,
   "metadata": {
    "id": "NZRBBSZegj1d"
   },
   "outputs": [],
   "source": [
    "# DO NOT EDIT THIS CELL\n",
    "\n",
    "heights_prob3"
   ]
  },
  {
   "cell_type": "markdown",
   "metadata": {
    "id": "LoGyycK45B4w"
   },
   "source": [
    "**(4)** At this point, we have a few more reported heights that we can make sense of:\n",
    "\n",
    "- reported heights in cm. E.g., `165cm` and `170 cm`\n",
    "- reported heights that use feet and inches implicitly. E.g., `5,3`, `5 .11`, `5 11`\n",
    "- reported heights that just use inches denoted by `\"`. E.g., `69\"` \n",
    "\n",
    "Define three regular expressions to handle these cases: `heights_cm_re`, `heights_ftin_implicit_re` and `heights_in_re`.\n",
    "\n",
    "`heights_cm_re` should match only those strings that _entirely consist of_ the following pattern:\n",
    "\n",
    "- the pattern begins with 2-3 occurrences of digits\n",
    "- followed by zero or more spaces (no need to worry about tabs, newlines, etc., just regular space character)\n",
    "- followed by `cm`\n",
    "\n",
    "`heights_ftin_implicit_re` should match only those strings that _entirely consist of_ the following pattern:\n",
    "\n",
    "- the pattern begins either `5` or `6`\n",
    "- followed by zero of more spaces (no need to worry about tabs, newlines, etc., just regular space character)\n",
    "- optionally followed by comma `,` or period `.`\n",
    "- followed by zero or more spaces (no need to worry about tabs, newlines, etc., just regular space character)\n",
    "- followed by one or more digits\n",
    "\n",
    "`heights_in_re` should match only those strings that _entirely consist of_ the following pattern:\n",
    "\n",
    "- the pattern begins with exactly 2 digits\n",
    "- followed by `\"`\n",
    "\n",
    "_1.5 points_"
   ]
  },
  {
   "cell_type": "code",
   "execution_count": null,
   "metadata": {
    "id": "1oBCSmmk5B4y"
   },
   "outputs": [],
   "source": [
    "# SOLUTION CELL 8.4\n",
    "\n"
   ]
  },
  {
   "cell_type": "markdown",
   "metadata": {
    "id": "ueVET5PNgj1f"
   },
   "source": [
    "**(5)** Using the appropriate `dplyr` verb, display only those rows of `heights_prob3` where `height` matches any one of the three regular expressions you created in problem 8.4 above. _0.5 points_"
   ]
  },
  {
   "cell_type": "code",
   "execution_count": null,
   "metadata": {
    "id": "OQonVDB1gj1f"
   },
   "outputs": [],
   "source": [
    "# SOLUTION CELL 8.5\n",
    "\n"
   ]
  }
 ],
 "metadata": {
  "colab": {
   "collapsed_sections": [],
   "name": "final_solutions.ipynb",
   "provenance": []
  },
  "kernelspec": {
   "display_name": "R",
   "language": "R",
   "name": "ir"
  },
  "language_info": {
   "codemirror_mode": "r",
   "file_extension": ".r",
   "mimetype": "text/x-r-source",
   "name": "R",
   "pygments_lexer": "r",
   "version": "4.0.5"
  }
 },
 "nbformat": 4,
 "nbformat_minor": 1
}
