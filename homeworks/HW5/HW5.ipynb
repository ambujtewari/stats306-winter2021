{
 "cells": [
  {
   "cell_type": "markdown",
   "metadata": {
    "id": "2KRyy01aXRV6"
   },
   "source": [
    "## STATS 306 WI 2021, HW 5, _20 points_\n",
    "\n",
    "Assigned: 03/26/2021\n",
    "\n",
    "Due: 04/02/2021  \n",
    "For full credit, your canvas upload needs to occur by 3:00 am EST on 04/03/2021."
   ]
  },
  {
   "cell_type": "markdown",
   "metadata": {
    "id": "ERLNuISbXRWA"
   },
   "source": [
    "### Instructions"
   ]
  },
  {
   "cell_type": "markdown",
   "metadata": {
    "id": "5LmebnZ2XRWB"
   },
   "source": [
    "* Before you submit the problem set, make sure everything runs as expected. Go to the menu bar at the top of Jupyter Notebook and click `Kernel > Restart & Run All` . Equivalently in Colab, `Runtime > Restart & Run All`. Your code should run from top to bottom with no errors. Failure to do this will result in loss of points.\n",
    "\n",
    "* Each problem has their own answer cell. Depending on the problem, the answer cell is a Markdown cell (to type text answers) or a Code cell (to type R code). Please write your answer in the designated cell. If you want to add addtional cells make sure to add them just below the designated cell.\n",
    "\n",
    "* After you done with running your code, use `Ctrl` or `⌘` + `p` then click `save as pdf` to save your homework as pdf file. Do not use pdf exporter feature of jupyter! You are not going to upload your `.ipynb` file, we just need the `.pdf`. It is your responsibility to ensure that your answers are clearly visible in the pdf file you upload to Canvas.\n",
    "\n",
    "* Use Slack `#hw5` channel to discuss the problems and ask for clarifications. **But please be careful not to post an answer or part of an answer**. Doing so may result in loss of points and/or disqualification from submitting the homework.\n",
    "\n",
    "* **Late submissions will not be accepted** (unless there is a documented emergency)."
   ]
  },
  {
   "cell_type": "markdown",
   "metadata": {
    "id": "8aQaYzN4XRWC"
   },
   "source": [
    "### Required Packages"
   ]
  },
  {
   "cell_type": "code",
   "execution_count": null,
   "metadata": {
    "colab": {
     "base_uri": "https://localhost:8080/"
    },
    "id": "jAHWvrp_XRWC",
    "outputId": "b518a8e4-0d07-49c2-944f-91d8aa88565b"
   },
   "outputs": [],
   "source": [
    "library(tidyverse)"
   ]
  },
  {
   "cell_type": "markdown",
   "metadata": {
    "id": "kT9Vl45xXRWD"
   },
   "source": [
    "### Problem 1, _5 points_"
   ]
  },
  {
   "cell_type": "markdown",
   "metadata": {
    "id": "8Ovq42JAXRWE"
   },
   "source": [
    "**(1)** Define the variable `money_re` such that it matches only those strings that are _entirely_ composed of a dollar-cent amount of the form “$xx...x.yy”. Note that the dollar part “xx...x” should have one or more digits and the cent part “yy” should have exactly two digits. For example, you should see the following behavior:  _3 points_\n",
    "\n",
    "```\n",
    "> x <- c(\"$0.99\", \"$1.23 tip\", \"$ 0.87\", \"$999.4999\", \"$1.99\", \"45.66 dollars\") \n",
    "> str_detect(x, money_re)\n",
    "[1]  TRUE FALSE FALSE FALSE  TRUE FALSE\n",
    "```"
   ]
  },
  {
   "cell_type": "code",
   "execution_count": null,
   "metadata": {
    "id": "6E75WFkNXRWE"
   },
   "outputs": [],
   "source": [
    "# SOLUTION CELL\n"
   ]
  },
  {
   "cell_type": "code",
   "execution_count": null,
   "metadata": {
    "colab": {
     "base_uri": "https://localhost:8080/",
     "height": 145
    },
    "id": "LSaNyHkx6GaI",
    "outputId": "26368869-a007-4443-e3e6-2650d4b7e4d1"
   },
   "outputs": [],
   "source": [
    "# DO NOT EDIT THIS CELL\n",
    "x <- c(\"$0.99\", \"$1.23 tip\", \"$ 0.87\", \"$999.4999\", \"$1.99\", \"45.66 dollars\") \n",
    "str_detect(x, money_re)"
   ]
  },
  {
   "cell_type": "markdown",
   "metadata": {
    "id": "_YWYcDox8b8B"
   },
   "source": [
    "**(2)** Define the variable `phone_re` such that it matches strings containing phone numbers of the form \"(xxx)-xxx-xxxx\" where an x represents a digit 0-9. For example, you should see the following behavior:  _2 points_\n",
    "```\n",
    "> y <- c(\"My phone number is (123)-456-7890\",\n",
    "       \"Call me at (123) 456 7890\",\n",
    "       \"(987)-654-3210\",\n",
    "       \"The number (012)-345-6789 doesn't exist\")\n",
    "> str_detect(y, phone_re)\n",
    "[1]  TRUE FALSE  TRUE  TRUE\n",
    "```"
   ]
  },
  {
   "cell_type": "code",
   "execution_count": null,
   "metadata": {
    "id": "uANnkN_V6GaJ"
   },
   "outputs": [],
   "source": [
    "# SOLUTION CELL\n"
   ]
  },
  {
   "cell_type": "code",
   "execution_count": null,
   "metadata": {
    "id": "EfZ7VIdO6GaJ"
   },
   "outputs": [],
   "source": [
    "# DO NOT EDIT THIS CELL\n",
    "y <- c(\"My phone number is (123)-456-7890\",\n",
    "       \"Call me at (123) 456 7890\",\n",
    "       \"(987)-654-3210\",\n",
    "       \"The number (012)-345-6789 doesn't exist\")\n",
    "str_detect(y, phone_re)"
   ]
  },
  {
   "cell_type": "markdown",
   "metadata": {
    "id": "d8Oa7FORXRWG"
   },
   "source": [
    "### Problem 2, _5 points_"
   ]
  },
  {
   "cell_type": "markdown",
   "metadata": {
    "id": "nnnBpZ1CXRWH"
   },
   "source": [
    "**(1)** Define the variable `char3_re` such that it matches the three character sequence `\"'\\` . Note that this sequence consists of a double quote, a single quote, and a backslash. For example, you should see the following behavior: _3 point_\n",
    "```\n",
    "> z <- c('\"\\'\\\\', '\"', \"'\", \"\\\\\", \"\\\"'\", \"'\\\\\", \"She said, \\\"'\\\\n' is newline\\\"\")\n",
    "> writeLines(z)\n",
    "> str_detect(z, char3_re)\n",
    "\"'\\\n",
    "\"\n",
    "'\n",
    "\\\n",
    "\"'\n",
    "'\\\n",
    "She said, \"'\\n' is newline\"\n",
    "[1]  TRUE FALSE FALSE FALSE FALSE FALSE  TRUE\n",
    "```"
   ]
  },
  {
   "cell_type": "code",
   "execution_count": null,
   "metadata": {
    "id": "YzQjHtHG6GaL"
   },
   "outputs": [],
   "source": [
    "# SOLUTION CELL\n"
   ]
  },
  {
   "cell_type": "code",
   "execution_count": null,
   "metadata": {
    "id": "4M9E2svC6GaL"
   },
   "outputs": [],
   "source": [
    "# DO NOT EDIT THIS CELL\n",
    "z <- c('\"\\'\\\\', '\"', \"'\", \"\\\\\", \"\\\"'\", \"'\\\\\", \"She said, \\\"'\\\\n' is newline\\\"\")\n",
    "writeLines(z)\n",
    "str_detect(z, char3_re)"
   ]
  },
  {
   "cell_type": "markdown",
   "metadata": {
    "id": "O7r3XWE6XRWH"
   },
   "source": [
    "**(2)** Suppose we create a tibble df using the following:"
   ]
  },
  {
   "cell_type": "code",
   "execution_count": null,
   "metadata": {
    "id": "FAM0Tydv6GaM"
   },
   "outputs": [],
   "source": [
    "# DO NOT EDIT THIS CELL\n",
    "df <- tibble(word = words, i = seq_along(words))"
   ]
  },
  {
   "cell_type": "markdown",
   "metadata": {
    "id": "FDE6aHyb6GaM"
   },
   "source": [
    "Then, write a command using filter to return exactly those rows of `df` where `word` has _exactly_ 2 more vowels than consonants. _2 points_"
   ]
  },
  {
   "cell_type": "code",
   "execution_count": null,
   "metadata": {
    "id": "9tRYj_x06GaM"
   },
   "outputs": [],
   "source": [
    "# SOLUTION CELL\n"
   ]
  },
  {
   "cell_type": "markdown",
   "metadata": {
    "id": "dgC_Tg_lXRWI"
   },
   "source": [
    "### Problem 3, _5 points_"
   ]
  },
  {
   "cell_type": "markdown",
   "metadata": {
    "id": "ZzxrsYjnXRWI"
   },
   "source": [
    "**(1)** Continue using the `df` tibble defined in problem 2, part 2. Write a single sequence of piped commands to execute the following steps in the order specified: _3 points_\n",
    "\n",
    "- Keep only those rows of `df` where `word` contains the pattern `qu`\n",
    "- Add a new column `garbled_word` in which the `qu` pattern is moved to the end of the word. For example, if `word` is `\"equal\"` then `garbled_word` will be `\"ealqu\"` "
   ]
  },
  {
   "cell_type": "code",
   "execution_count": null,
   "metadata": {
    "id": "IN-ukj_h6GaN"
   },
   "outputs": [],
   "source": [
    "# SOLUTION CELL\n"
   ]
  },
  {
   "cell_type": "markdown",
   "metadata": {
    "id": "nfskWNiYXRWI"
   },
   "source": [
    "**(2)** Using the `df` tibble (defined in problem 2, part 2) as a starting point, write a single sequence of piped commands to execute the following steps in the order specified: _2 points_\n",
    "\n",
    "- Add two new columns `num_vowels` and `num_consonants` that count the number of vowels and consonants respectively in `word`\n",
    "- Use `geom_count` to visualize the covariation of `num_vowels` (on x-axis) vs `num_consonants` (on y-axis)"
   ]
  },
  {
   "cell_type": "code",
   "execution_count": null,
   "metadata": {
    "id": "K48pCpnK6GaO"
   },
   "outputs": [],
   "source": [
    "# SOLUTION CELL\n"
   ]
  },
  {
   "cell_type": "markdown",
   "metadata": {
    "id": "FinhV5JwXRWJ"
   },
   "source": [
    "### Problem 4, _5 points_"
   ]
  },
  {
   "cell_type": "markdown",
   "metadata": {
    "id": "5pDx86AH6GaO"
   },
   "source": [
    "**(1)** Using the `df` tibble (defined in problem 2, part 2) as a starting point, filter those rows where `word` contains 4 consonants in a row (e.g., the word `\"apply\"` has 4 consonants in a row). _1 point_"
   ]
  },
  {
   "cell_type": "code",
   "execution_count": null,
   "metadata": {
    "id": "sqU4P9IM6GaP"
   },
   "outputs": [],
   "source": [
    "# SOLUTION CELL\n"
   ]
  },
  {
   "cell_type": "markdown",
   "metadata": {
    "id": "EYuqzrdM6GaP"
   },
   "source": [
    "**(2)** Define a variable `dr_re` such that it matches `\"Drive\"`, `\"Dr.\"` or `\"Dr\"`. For example, you should see the following behavior:  _1 point_\n",
    "\n",
    "```\n",
    "> drives <- c(\"Lake Shore Dr.\", \"Lake Shore Doctor\", \"Lake Shore Drive\", \"Lake Shore Dr\", \"Lake Shore\")\n",
    "> str_extract(str_subset(drives, dr_re), dr_re)\n",
    "[1] \"Dr.\"   \"Drive\" \"Dr\"   \n",
    "```"
   ]
  },
  {
   "cell_type": "code",
   "execution_count": null,
   "metadata": {
    "id": "56Rz8uhy6GaP"
   },
   "outputs": [],
   "source": [
    "# SOLUTION CELL\n"
   ]
  },
  {
   "cell_type": "code",
   "execution_count": null,
   "metadata": {
    "id": "8gQPsfro6GaQ"
   },
   "outputs": [],
   "source": [
    "# DO NOT EDIT THIS CELL\n",
    "drives <- c(\"Lake Shore Dr.\",\n",
    "            \"Lake Shore Doctor\",\n",
    "            \"Lake Shore Drive\",\n",
    "            \"Lake Shore Dr\",\n",
    "            \"Lake Shore\")\n",
    "str_extract(str_subset(drives, dr_re), dr_re)"
   ]
  },
  {
   "cell_type": "markdown",
   "metadata": {
    "id": "pxdcS9K46GaQ"
   },
   "source": [
    "**(3)** Starting from the preexisting variable `sentences`, use a single sequence of piped commands to execute the following steps in the order specified: _3 points_\n",
    "\n",
    "- Keep only those sentences that start with `\"The\"`.\n",
    "- Then keep only those sentences that have a comma somewhere.\n",
    "- Then split these sentences by comma."
   ]
  },
  {
   "cell_type": "code",
   "execution_count": null,
   "metadata": {
    "id": "i06OB4-U6GaR"
   },
   "outputs": [],
   "source": [
    "# SOLUTION CELL\n"
   ]
  }
 ],
 "metadata": {
  "colab": {
   "name": "HW5_blank.ipynb",
   "provenance": []
  },
  "kernelspec": {
   "display_name": "R",
   "language": "R",
   "name": "ir"
  },
  "language_info": {
   "codemirror_mode": "r",
   "file_extension": ".r",
   "mimetype": "text/x-r-source",
   "name": "R",
   "pygments_lexer": "r",
   "version": "4.0.4"
  }
 },
 "nbformat": 4,
 "nbformat_minor": 1
}
