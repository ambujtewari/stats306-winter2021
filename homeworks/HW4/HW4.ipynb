{
 "cells": [
  {
   "cell_type": "markdown",
   "metadata": {
    "id": "2KRyy01aXRV6"
   },
   "source": [
    "## STATS 306 WI 2021, HW 4, _20 points_\n",
    "\n",
    "Assigned: 03/18/2021\n",
    "\n",
    "Due: 03/26/2021  \n",
    "For full credit, your canvas upload needs to occur by 3:00 am EST on 03/27/2021."
   ]
  },
  {
   "cell_type": "markdown",
   "metadata": {
    "id": "ERLNuISbXRWA"
   },
   "source": [
    "### Instructions"
   ]
  },
  {
   "cell_type": "markdown",
   "metadata": {
    "id": "5LmebnZ2XRWB"
   },
   "source": [
    "* Before you submit the problem set, make sure everything runs as expected. Go to the menu bar at the top of Jupyter Notebook and click `Kernel > Restart & Run All` . Equivalently in Colab, `Runtime > Restart & Run All`. Your code should run from top to bottom with no errors. Failure to do this will result in loss of points.\n",
    "\n",
    "* Each problem has their own answer cell. Depending on the problem, the answer cell is a Markdown cell (to type text answers) or a Code cell (to type R code). Please write your answer in the designated cell. If you want to add addtional cells make sure to add them just below the designated cell.\n",
    "\n",
    "* After you done with running your code, use `Ctrl` or `⌘` + `p` then click `save as pdf` to save your homework as pdf file. Do not use pdf exporter feature of jupyter! You are not going to upload your `.ipynb` file, we just need the `.pdf`. It is your responsibility to ensure that your answers are clearly visible in the pdf file you upload to Canvas.\n",
    "\n",
    "* Use Slack `#hw4` channel to discuss the problems and ask for clarifications. **But please be careful not to post an answer or part of an answer**. Doing so may result in loss of points and/or disqualification from submitting the homework.\n",
    "\n",
    "* **Late submissions will not be accepted** (unless there is a documented emergency)."
   ]
  },
  {
   "cell_type": "markdown",
   "metadata": {
    "id": "8aQaYzN4XRWC"
   },
   "source": [
    "### Required Packages"
   ]
  },
  {
   "cell_type": "code",
   "execution_count": 1,
   "metadata": {
    "colab": {
     "base_uri": "https://localhost:8080/"
    },
    "id": "jAHWvrp_XRWC",
    "outputId": "1b338f76-d63c-46e4-d2a6-c673c31c82bd"
   },
   "outputs": [
    {
     "name": "stderr",
     "output_type": "stream",
     "text": [
      "── \u001b[1mAttaching packages\u001b[22m ─────────────────────────────────────── tidyverse 1.3.0 ──\n",
      "\n",
      "\u001b[32m✔\u001b[39m \u001b[34mggplot2\u001b[39m 3.3.3     \u001b[32m✔\u001b[39m \u001b[34mpurrr  \u001b[39m 0.3.4\n",
      "\u001b[32m✔\u001b[39m \u001b[34mtibble \u001b[39m 3.0.6     \u001b[32m✔\u001b[39m \u001b[34mdplyr  \u001b[39m 1.0.4\n",
      "\u001b[32m✔\u001b[39m \u001b[34mtidyr  \u001b[39m 1.1.2     \u001b[32m✔\u001b[39m \u001b[34mstringr\u001b[39m 1.4.0\n",
      "\u001b[32m✔\u001b[39m \u001b[34mreadr  \u001b[39m 1.4.0     \u001b[32m✔\u001b[39m \u001b[34mforcats\u001b[39m 0.5.1\n",
      "\n",
      "── \u001b[1mConflicts\u001b[22m ────────────────────────────────────────── tidyverse_conflicts() ──\n",
      "\u001b[31m✖\u001b[39m \u001b[34mdplyr\u001b[39m::\u001b[32mfilter()\u001b[39m masks \u001b[34mstats\u001b[39m::filter()\n",
      "\u001b[31m✖\u001b[39m \u001b[34mdplyr\u001b[39m::\u001b[32mlag()\u001b[39m    masks \u001b[34mstats\u001b[39m::lag()\n",
      "\n"
     ]
    }
   ],
   "source": [
    "library(tidyverse)"
   ]
  },
  {
   "cell_type": "markdown",
   "metadata": {
    "id": "kT9Vl45xXRWD"
   },
   "source": [
    "### Problem 1, _5 points_"
   ]
  },
  {
   "cell_type": "markdown",
   "metadata": {
    "id": "8Ovq42JAXRWE"
   },
   "source": [
    "**(1)** Create the following tibble using `tribble()`. You don't have to assign the created tibble to any variable. _1 point_\n",
    "\n",
    "```\n",
    "# A tibble: 6 x 2\n",
    "  time_zone UTC_offset\n",
    "  <chr>          <dbl>\n",
    "1 HST              -10\n",
    "2 AKST              -9\n",
    "3 PST               -8\n",
    "4 MST               -7\n",
    "5 CST               -6\n",
    "6 EST               -5\n",
    "```"
   ]
  },
  {
   "cell_type": "code",
   "execution_count": null,
   "metadata": {
    "id": "6E75WFkNXRWE"
   },
   "outputs": [],
   "source": []
  },
  {
   "cell_type": "markdown",
   "metadata": {
    "id": "_YWYcDox8b8B"
   },
   "source": [
    "**(2)** We have defined two vectors below, one with names of 9 countries and another with their time zone names."
   ]
  },
  {
   "cell_type": "code",
   "execution_count": 2,
   "metadata": {
    "id": "kIZHuR4X8b8B",
    "outputId": "1233c160-15ae-4ae3-8a05-2a3c899aca92"
   },
   "outputs": [],
   "source": [
    "# DO NOT EDIT THIS CELL\n",
    "\n",
    "country <- c(\"Italy\", \"Greece\", \"Turkey\", \"Mauritius\", \"Pakistan\", \"Bangladesh\", \"Thailand\", \"Singapore\", \"Japan\")\n",
    "time_zone <- c(\"CET\", \"EET\", \"TRT\", \"MUT\", \"PKT\", \"BST\", \"THA\", \"SST\", \"JST\")"
   ]
  },
  {
   "cell_type": "markdown",
   "metadata": {},
   "source": [
    "Use the `tibble()` command to create the following tibble:\n",
    "```\n",
    "# A tibble: 9 x 3\n",
    "  country    time_zone UTC_offset\n",
    "  <chr>      <chr>          <int>\n",
    "1 Italy      CET                1\n",
    "2 Greece     EET                2\n",
    "3 Turkey     TRT                3\n",
    "4 Mauritius  MUT                4\n",
    "5 Pakistan   PKT                5\n",
    "6 Bangladesh BST                6\n",
    "7 Thailand   THA                7\n",
    "8 Singapore  SST                8\n",
    "9 Japan      JST                9\n",
    "```\n",
    "Note that the contents of the first two columns have to be pulled from the two vectors defined above whereas the third column has to be created by you directly. Again, you just need to create the tibble, not assign it to any variable. _2 points_"
   ]
  },
  {
   "cell_type": "code",
   "execution_count": null,
   "metadata": {},
   "outputs": [],
   "source": []
  },
  {
   "cell_type": "markdown",
   "metadata": {
    "id": "Fjrswyp28b8C"
   },
   "source": [
    "**(3)** All the time zones that STATS 306 students posted in the `#time-zones` slack channel are stored in a file at this URL:"
   ]
  },
  {
   "cell_type": "code",
   "execution_count": 3,
   "metadata": {
    "id": "Fjrswyp28b8C"
   },
   "outputs": [],
   "source": [
    "# DO NOT EDIT THIS CELL\n",
    "\n",
    "tz_url <- 'https://raw.githubusercontent.com/ambujtewari/stats306-winter2021/main/data/all_tz.csv'"
   ]
  },
  {
   "cell_type": "markdown",
   "metadata": {
    "id": "Fjrswyp28b8C"
   },
   "source": [
    "Import data in this file using `read_csv` into a tibble `tz`. Make sure to display the first few rows of the tibble using the `head()` command and ensure that it has one column named `UTC_offset`. _1 point_"
   ]
  },
  {
   "cell_type": "code",
   "execution_count": null,
   "metadata": {},
   "outputs": [],
   "source": []
  },
  {
   "cell_type": "markdown",
   "metadata": {},
   "source": [
    "**(4)** Using the `tz` tibble above, make a bar chart of UTC offsets of the time zones of STATS 306 students this semester. _1 point_"
   ]
  },
  {
   "cell_type": "code",
   "execution_count": null,
   "metadata": {},
   "outputs": [],
   "source": []
  },
  {
   "cell_type": "markdown",
   "metadata": {
    "id": "d8Oa7FORXRWG"
   },
   "source": [
    "### Problem 2, _5 points_"
   ]
  },
  {
   "cell_type": "markdown",
   "metadata": {
    "id": "nnnBpZ1CXRWH"
   },
   "source": [
    "**(1)** The average life expectancies of countries for various years are stored in a file at the URL below:"
   ]
  },
  {
   "cell_type": "code",
   "execution_count": 4,
   "metadata": {
    "id": "nnnBpZ1CXRWH"
   },
   "outputs": [],
   "source": [
    "# DO NOT EDIT THIS CELL\n",
    "\n",
    "life_url <- 'https://raw.githubusercontent.com/ambujtewari/stats306-winter2021/main/data/life_expectancy_years.csv'"
   ]
  },
  {
   "cell_type": "markdown",
   "metadata": {
    "id": "nnnBpZ1CXRWH"
   },
   "source": [
    "Import the file and keep only the columns `country` and `2010` through `2021`. Then use `pivot_longer` to move the years in a column called `year` and the values into a column named `life_expectancy`. Additionally, change the `year` column to be of type integer using `as.integer()`. This final tibble, which is in tidy format, should be stored in a variable named `life`. Make sure to display the first few rows of `life` using `head()`. _4 points_"
   ]
  },
  {
   "cell_type": "code",
   "execution_count": null,
   "metadata": {
    "id": "wShY82j4XRWH",
    "outputId": "4b1bdd82-0c28-486a-ad30-2f378d510702"
   },
   "outputs": [],
   "source": []
  },
  {
   "cell_type": "markdown",
   "metadata": {
    "id": "O7r3XWE6XRWH"
   },
   "source": [
    "**(2)** Using `life` as a starting point, create a line plot (using `geom_line()`) of `life_expectancy` on the y-axis versus `year` on the x-axis for Canada, United States, and Mexico. Make sure each country's line is in a different color. _1 point_"
   ]
  },
  {
   "cell_type": "code",
   "execution_count": null,
   "metadata": {
    "id": "_TYfdZplXRWH",
    "outputId": "2a6a7a81-42bf-4e96-ed51-8c41dc8667e8"
   },
   "outputs": [],
   "source": []
  },
  {
   "cell_type": "markdown",
   "metadata": {
    "id": "dgC_Tg_lXRWI"
   },
   "source": [
    "### Problem 3, _5 points_"
   ]
  },
  {
   "cell_type": "markdown",
   "metadata": {
    "id": "ZzxrsYjnXRWI"
   },
   "source": [
    "**(1)** Let us use the `life` tibble from the previous problem again. Using a single chain of piped commands, create a vector (not a tibble) `has_missing` that contains the names of the countries with at least one missing value for `life_expectancy`. Your command should manipulate tibbles all the way to the end where you should extract exactly one column from the tibble as a vector and store the result in the variable `has_missing`. _3 points_"
   ]
  },
  {
   "cell_type": "code",
   "execution_count": null,
   "metadata": {
    "id": "7c4gvU81XRWI",
    "outputId": "2d95aa98-b5c8-46a7-b943-2fb4276e0dbe"
   },
   "outputs": [],
   "source": []
  },
  {
   "cell_type": "markdown",
   "metadata": {},
   "source": [
    "The code below ensures that the vector `has_missing` gets displayed for grading purposes. Don't change it!"
   ]
  },
  {
   "cell_type": "code",
   "execution_count": 5,
   "metadata": {},
   "outputs": [
    {
     "ename": "ERROR",
     "evalue": "Error in eval(expr, envir, enclos): object 'has_missing' not found\n",
     "output_type": "error",
     "traceback": [
      "Error in eval(expr, envir, enclos): object 'has_missing' not found\nTraceback:\n"
     ]
    }
   ],
   "source": [
    "# DO NOT EDIT THIS CELL\n",
    "\n",
    "has_missing"
   ]
  },
  {
   "cell_type": "markdown",
   "metadata": {
    "id": "nfskWNiYXRWI"
   },
   "source": [
    "**(2)** For all countries in `has_missing`, fill in the missing values using tbe last observation carry forward method. Then create a line plot using `geom_line` with `year` on x-axis, `life_expectancy` on y-axis. Make sure the lines representing data from the different countries are in different colors. _2 points_"
   ]
  },
  {
   "cell_type": "code",
   "execution_count": null,
   "metadata": {
    "id": "xHPe9nuQXRWJ",
    "outputId": "9f69505b-ae9e-4909-8dd8-b6f08cc2cabe"
   },
   "outputs": [],
   "source": []
  },
  {
   "cell_type": "markdown",
   "metadata": {
    "id": "FinhV5JwXRWJ"
   },
   "source": [
    "### Problem 4, _5 points_"
   ]
  },
  {
   "cell_type": "markdown",
   "metadata": {},
   "source": [
    "**(1)** Create a string and assign to the variable `cat` such that `writeLines(cat)` displays the following: _2 points_\n",
    "```\n",
    "  |\\_/|\n",
    " / 0 0 \\\n",
    "( > o < )\n",
    " '>>x<<'\n",
    " /  \"  \\\n",
    "```"
   ]
  },
  {
   "cell_type": "code",
   "execution_count": null,
   "metadata": {},
   "outputs": [],
   "source": []
  },
  {
   "cell_type": "code",
   "execution_count": null,
   "metadata": {},
   "outputs": [],
   "source": [
    "# DO NOT EDIT THIS CELL\n",
    "\n",
    "writeLines(cat)"
   ]
  },
  {
   "cell_type": "markdown",
   "metadata": {},
   "source": [
    "**(2)** Create a tibble using `tribble()` called `stat_courses` that prints as follows: _1 point_\n",
    "```\n",
    "# A tibble: 14 x 2\n",
    "   course_number course_name                 \n",
    "   <chr>         <chr>                       \n",
    " 1 206           Intro Data Science          \n",
    " 2 250           Intro Stat and Data Analysis\n",
    " 3 306           Statistical Computing       \n",
    " 4 401           Applied Stat Methods II     \n",
    " 5 406           Computational Methods       \n",
    " 6 412           Intro Prob Stat             \n",
    " 7 413           Applied Regression          \n",
    " 8 415           Data Mining                 \n",
    " 9 425           Intro Probability           \n",
    "10 426           Intro to Theo Stat          \n",
    "11 430           Applied Probability         \n",
    "12 449           Topics in Biostat           \n",
    "13 480           Survey Sampling             \n",
    "14 485           Capstone Seminar         \n",
    "```"
   ]
  },
  {
   "cell_type": "code",
   "execution_count": null,
   "metadata": {},
   "outputs": [],
   "source": []
  },
  {
   "cell_type": "code",
   "execution_count": null,
   "metadata": {},
   "outputs": [],
   "source": [
    "# DO NOT EDIT THIS CELL\n",
    "\n",
    "stat_courses"
   ]
  },
  {
   "cell_type": "markdown",
   "metadata": {},
   "source": [
    "**(3)** Change the column `course_number` so that the prefix `\"STATS \"` gets added to each course number. After this change, the tibble `stat_courses` should print as follows: _1 point_\n",
    "``` \n",
    "# A tibble: 14 x 2\n",
    "   course_number course_name                 \n",
    "   <chr>         <chr>                       \n",
    " 1 STATS 206     Intro Data Science          \n",
    " 2 STATS 250     Intro Stat and Data Analysis\n",
    " 3 STATS 306     Statistical Computing       \n",
    " 4 STATS 401     Applied Stat Methods II     \n",
    " 5 STATS 406     Computational Methods       \n",
    " 6 STATS 412     Intro Prob Stat             \n",
    " 7 STATS 413     Applied Regression          \n",
    " 8 STATS 415     Data Mining                 \n",
    " 9 STATS 425     Intro Probability           \n",
    "10 STATS 426     Intro to Theo Stat          \n",
    "11 STATS 430     Applied Probability         \n",
    "12 STATS 449     Topics in Biostat           \n",
    "13 STATS 480     Survey Sampling             \n",
    "14 STATS 485     Capstone Seminar      \n",
    "```"
   ]
  },
  {
   "cell_type": "code",
   "execution_count": null,
   "metadata": {},
   "outputs": [],
   "source": []
  },
  {
   "cell_type": "code",
   "execution_count": null,
   "metadata": {},
   "outputs": [],
   "source": [
    "# DO NOT EDIT THIS CELL\n",
    "\n",
    "stat_courses"
   ]
  },
  {
   "cell_type": "markdown",
   "metadata": {},
   "source": [
    "**(4)** Create a string and assign to the variable `drseuss` such that `writeLines(drseuss)` displays the following: _1 point_\n",
    "```\n",
    "\"You're off to Great Places!\n",
    "  Today is your day!\n",
    "   Your mountain is waiting,\n",
    "    So... get on your way!\"\n",
    "-Dr. Seuss, Oh, the Places You'll Go!\n",
    "```"
   ]
  },
  {
   "cell_type": "code",
   "execution_count": null,
   "metadata": {},
   "outputs": [],
   "source": []
  },
  {
   "cell_type": "code",
   "execution_count": null,
   "metadata": {},
   "outputs": [],
   "source": [
    "# DO NOT EDIT THIS CELL\n",
    "\n",
    "writeLines(drseuss)"
   ]
  }
 ],
 "metadata": {
  "colab": {
   "name": "HW3_Solutions.ipynb",
   "provenance": []
  },
  "kernelspec": {
   "display_name": "R",
   "language": "R",
   "name": "ir"
  },
  "language_info": {
   "codemirror_mode": "r",
   "file_extension": ".r",
   "mimetype": "text/x-r-source",
   "name": "R",
   "pygments_lexer": "r",
   "version": "4.0.4"
  }
 },
 "nbformat": 4,
 "nbformat_minor": 1
}
