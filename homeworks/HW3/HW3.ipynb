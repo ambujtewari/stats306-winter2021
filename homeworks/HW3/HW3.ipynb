{
  "nbformat": 4,
  "nbformat_minor": 0,
  "metadata": {
    "colab": {
      "name": "HW3.ipynb",
      "provenance": []
    },
    "kernelspec": {
      "display_name": "R",
      "language": "R",
      "name": "ir"
    },
    "language_info": {
      "codemirror_mode": "r",
      "file_extension": ".r",
      "mimetype": "text/x-r-source",
      "name": "R",
      "pygments_lexer": "r",
      "version": "4.0.4"
    }
  },
  "cells": [
    {
      "cell_type": "markdown",
      "metadata": {
        "id": "2KRyy01aXRV6"
      },
      "source": [
        "## STATS 306 WI 2021, HW 3, _20 points_\n",
        "\n",
        "Assigned: 02/25/2021\n",
        "\n",
        "Due: 03/05/2021  \n",
        "**Note: this has changed for this HW**. For full credit, your canvas upload needs to occur by 3:00 am EST on 03/06/2021. The most that anyone is behind Ann Arbor time is 3 hours (i.e., people on the US west coast). So this deadline of 3 hours past midnight Ann Arbor time gives everyone the entire day of 03/05/2021 to finish the HW."
      ]
    },
    {
      "cell_type": "markdown",
      "metadata": {
        "id": "ERLNuISbXRWA"
      },
      "source": [
        "### Instructions"
      ]
    },
    {
      "cell_type": "markdown",
      "metadata": {
        "id": "5LmebnZ2XRWB"
      },
      "source": [
        "* Before you submit the problem set, make sure everything runs as expected. Go to the menu bar at the top of Jupyter Notebook and click `Kernel > Restart & Run All` . Equivalently in Colab, `Runtime > Restart & Run All`. Your code should run from top to bottom with no errors. Failure to do this will result in loss of points.\n",
        "\n",
        "* Each problem has their own answer cell. Depending on the problem, the answer cell is a Markdown cell (to type text answers) or a Code cell (to type R code). Please write your answer in the designated cell. If you want to add addtional cells make sure to add them just below the designated cell.\n",
        "\n",
        "* After you done with running your code, use `Ctrl` or `⌘` + `p` then click `save as pdf` to save your homework as pdf file. Do not use pdf exporter feature of jupyter! You are not going to upload your `.ipynb` file, we just need the `.pdf`. It is your responsibility to ensure that your answers are clearly visible in the pdf file you upload to Canvas.\n",
        "\n",
        "* Use Slack `#hw3` channel to discuss the problems and ask for clarifications. **But please be careful not to post an answer or part of an answer**. Doing so may result in loss of points and/or disqualification from submitting the homework.\n",
        "\n",
        "* **Late submissions will not be accepted** (unless there is a documented emergency)."
      ]
    },
    {
      "cell_type": "markdown",
      "metadata": {
        "id": "8aQaYzN4XRWC"
      },
      "source": [
        "### Required Packages"
      ]
    },
    {
      "cell_type": "code",
      "metadata": {
        "colab": {
          "base_uri": "https://localhost:8080/"
        },
        "id": "jAHWvrp_XRWC",
        "outputId": "4153e21e-420d-4b89-c207-cc8cb4ddb9c2"
      },
      "source": [
        "library(tidyverse)"
      ],
      "execution_count": null,
      "outputs": [
        {
          "output_type": "stream",
          "text": [
            "── \u001b[1mAttaching packages\u001b[22m ─────────────────────────────────────── tidyverse 1.3.0 ──\n",
            "\n",
            "\u001b[32m✔\u001b[39m \u001b[34mggplot2\u001b[39m 3.3.3     \u001b[32m✔\u001b[39m \u001b[34mpurrr  \u001b[39m 0.3.4\n",
            "\u001b[32m✔\u001b[39m \u001b[34mtibble \u001b[39m 3.0.6     \u001b[32m✔\u001b[39m \u001b[34mdplyr  \u001b[39m 1.0.4\n",
            "\u001b[32m✔\u001b[39m \u001b[34mtidyr  \u001b[39m 1.1.2     \u001b[32m✔\u001b[39m \u001b[34mstringr\u001b[39m 1.4.0\n",
            "\u001b[32m✔\u001b[39m \u001b[34mreadr  \u001b[39m 1.4.0     \u001b[32m✔\u001b[39m \u001b[34mforcats\u001b[39m 0.5.1\n",
            "\n",
            "── \u001b[1mConflicts\u001b[22m ────────────────────────────────────────── tidyverse_conflicts() ──\n",
            "\u001b[31m✖\u001b[39m \u001b[34mdplyr\u001b[39m::\u001b[32mfilter()\u001b[39m masks \u001b[34mstats\u001b[39m::filter()\n",
            "\u001b[31m✖\u001b[39m \u001b[34mdplyr\u001b[39m::\u001b[32mlag()\u001b[39m    masks \u001b[34mstats\u001b[39m::lag()\n",
            "\n"
          ],
          "name": "stderr"
        }
      ]
    },
    {
      "cell_type": "code",
      "metadata": {
        "id": "BbH6rxHk4Zan"
      },
      "source": [
        "# uncomment the line below if the nycflights13 package is not installed\n",
        "# install.packages(\"nycflights13\")\n",
        "\n",
        "# loads the package that has the flights tibble\n",
        "library(nycflights13)"
      ],
      "execution_count": null,
      "outputs": []
    },
    {
      "cell_type": "markdown",
      "metadata": {
        "id": "kT9Vl45xXRWD"
      },
      "source": [
        "### Problem 1, _5 points_"
      ]
    },
    {
      "cell_type": "markdown",
      "metadata": {
        "id": "8Ovq42JAXRWE"
      },
      "source": [
        "**(1)** Alice tells Bob that she looked at the `flights` tibble to find out the best 5 carriers in terms of mean departure delay in their flights. She tells Bob that according to her, the top 5 carriers along with their mean departure delay are as follows:\n",
        "```\n",
        "# A tibble: 5 x 2\n",
        "  carrier mean_delay\n",
        "  <chr>        <dbl>\n",
        "1 US            3.78\n",
        "2 HA            4.90\n",
        "3 AS            5.80\n",
        "4 AA            8.59\n",
        "5 DL            9.26\n",
        "```\n",
        "\n",
        "Bob is not fully convinced by Alice's claim and so he writes the following code. But when he runs it, the code fails to run properly.\n",
        "\n",
        "```\n",
        "flights %>%\n",
        "    group_by(carrier) %>%\n",
        "    summarize(mean_delay = mean(dep_delay)) %>%\n",
        "    arrange(dep_delay) %>%\n",
        "    slice(1:5)\n",
        "```\n",
        "\n",
        "There are two problems with Bob's code. What are they? _2 points_"
      ]
    },
    {
      "cell_type": "markdown",
      "metadata": {
        "id": "6E75WFkNXRWE"
      },
      "source": [
        ""
      ]
    },
    {
      "cell_type": "markdown",
      "metadata": {
        "id": "YtHRfIm-4Zao"
      },
      "source": [
        "**(2)** Correct the two bugs in Bob's code and write the correct code below. Does it reproduce Alice's results (ignore minor numerical differences in the means)? _3 points_"
      ]
    },
    {
      "cell_type": "code",
      "metadata": {
        "id": "ZTpioE8t4Zao"
      },
      "source": [
        ""
      ],
      "execution_count": 1,
      "outputs": []
    },
    {
      "cell_type": "markdown",
      "metadata": {
        "id": "d8Oa7FORXRWG"
      },
      "source": [
        "### Problem 2, _5 points_"
      ]
    },
    {
      "cell_type": "markdown",
      "metadata": {
        "id": "f_0r9qoOXRWG"
      },
      "source": [
        "**(1)** Store all flights flying to Los Angeles (airport code LAX) that do *not* have their departure delay missing in a tibble called `LA_flights`. _2 points_"
      ]
    },
    {
      "cell_type": "code",
      "metadata": {
        "id": "xmjBKzCVXRWG"
      },
      "source": [
        ""
      ],
      "execution_count": null,
      "outputs": []
    },
    {
      "cell_type": "markdown",
      "metadata": {
        "id": "nnnBpZ1CXRWH"
      },
      "source": [
        "**(2)** Using the `LA_flights` tibble created above, plot the histogram of `dep_delay` using a `binwidth` of 10. _1 point_"
      ]
    },
    {
      "cell_type": "code",
      "metadata": {
        "id": "wShY82j4XRWH"
      },
      "source": [
        ""
      ],
      "execution_count": null,
      "outputs": []
    },
    {
      "cell_type": "markdown",
      "metadata": {
        "id": "O7r3XWE6XRWH"
      },
      "source": [
        "**(3)** Let us define an outlier in `LA_flights` as a flight whose `dep_delay` is more than 5 hours. Replot the histogram above (using the same `binwidth`), this time after removing all outliers. _2 points_"
      ]
    },
    {
      "cell_type": "code",
      "metadata": {
        "id": "_TYfdZplXRWH"
      },
      "source": [
        ""
      ],
      "execution_count": null,
      "outputs": []
    },
    {
      "cell_type": "markdown",
      "metadata": {
        "id": "dgC_Tg_lXRWI"
      },
      "source": [
        "### Problem 3, _5 points_"
      ]
    },
    {
      "cell_type": "markdown",
      "metadata": {
        "id": "ZzxrsYjnXRWI"
      },
      "source": [
        "**(1)** Write the code, using pipes, to execute the following steps (in the order specified) using the `flights` data set. _4 points_\n",
        "\n",
        "- Get the flights flying to Honolulu (airport code HNL) whose `air_time` is more than 10 hours\n",
        "- Then convert the `month` variable (which is an integer) into a categorical variable using `factor(month)` \n",
        "- Then plot the bar graph of the distribution of flights by month"
      ]
    },
    {
      "cell_type": "code",
      "metadata": {
        "id": "7c4gvU81XRWI"
      },
      "source": [
        ""
      ],
      "execution_count": null,
      "outputs": []
    },
    {
      "cell_type": "markdown",
      "metadata": {
        "id": "nfskWNiYXRWI"
      },
      "source": [
        "**(2)** How many flights that were *not* going to Honolulu had `air_time` more than 10 hours. Make sure to the include the code that you ran to answer this question. _1 point_"
      ]
    },
    {
      "cell_type": "code",
      "metadata": {
        "id": "xHPe9nuQXRWJ"
      },
      "source": [
        ""
      ],
      "execution_count": null,
      "outputs": []
    },
    {
      "cell_type": "markdown",
      "metadata": {
        "id": "du597i9I4Zar"
      },
      "source": [
        ""
      ]
    },
    {
      "cell_type": "markdown",
      "metadata": {
        "id": "FinhV5JwXRWJ"
      },
      "source": [
        "### Problem 4, _5 points_"
      ]
    },
    {
      "cell_type": "markdown",
      "metadata": {
        "id": "FhQ2LMBzXRWJ"
      },
      "source": [
        " **(1)** There are two airports in the Chicago area, `ORD` (O'Hare) and `MDW` (Midway). Bob is trying to convince Bob that, among the carriers that fly to the Chicago area (in the `flights` tibble), the only one that flies to `MDW` is Southwest (code `WN`). He also wants to convince her that Southwest doesn't operate flights to `ORD`. So he creates the following tibble where `to_ORD` and `to_MDW` columns record the number of flights a carrier flew to `ORD` and `MDW` respectively.\n",
        " ```\n",
        " # A tibble: 8 x 3\n",
        "  carrier to_ORD to_MDW\n",
        "* <chr>    <int>  <int>\n",
        "1 9E        1056      0\n",
        "2 AA        6059      0\n",
        "3 B6         905      0\n",
        "4 EV           2      0\n",
        "5 MQ        2276      0\n",
        "6 OO           1      0\n",
        "7 UA        6984      0\n",
        "8 WN           0   4113\n",
        "```\n",
        "Using an appropriate combination of `dplyr` verbs and pipes, write code below that will reproduce Bob's result above. _3 points_"
      ]
    },
    {
      "cell_type": "code",
      "metadata": {
        "id": "WXOMZsH7XRWJ"
      },
      "source": [
        ""
      ],
      "execution_count": null,
      "outputs": []
    },
    {
      "cell_type": "markdown",
      "metadata": {
        "id": "XDLr3S1SXRWJ"
      },
      "source": [
        "**(2)** Create a box plot to visualize the covariation of `air_time` (y-axis) vs `carrier` (x-axis) for flights flying to the Chicago area. Make sure to remove flights with missing values for `air_time`. Also remove flights operated by `EV` and `OO` since these two carriers flew so few flights (as we can see in Bob's tibble above) _2 points_"
      ]
    },
    {
      "cell_type": "code",
      "metadata": {
        "id": "93nkrHudXRWJ"
      },
      "source": [
        ""
      ],
      "execution_count": null,
      "outputs": []
    }
  ]
}