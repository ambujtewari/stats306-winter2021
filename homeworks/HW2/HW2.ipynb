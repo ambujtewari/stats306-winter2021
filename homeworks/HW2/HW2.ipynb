{
  "nbformat": 4,
  "nbformat_minor": 0,
  "metadata": {
    "kernelspec": {
      "display_name": "R",
      "language": "R",
      "name": "ir"
    },
    "language_info": {
      "codemirror_mode": "r",
      "file_extension": ".r",
      "mimetype": "text/x-r-source",
      "name": "R",
      "pygments_lexer": "r",
      "version": "4.0.3"
    },
    "colab": {
      "name": "HW2.ipynb",
      "provenance": []
    }
  },
  "cells": [
    {
      "cell_type": "markdown",
      "metadata": {
        "id": "2KRyy01aXRV6"
      },
      "source": [
        "## STATS 306 WI 2021, HW 2, _20 points_\n",
        "\n",
        "Assigned: 02/11/2021\n",
        "\n",
        "Due: 02/19/2021  \n",
        "(for full credit, your canvas upload needs to occur by 11:59 pm in your local time zone)"
      ]
    },
    {
      "cell_type": "markdown",
      "metadata": {
        "id": "ERLNuISbXRWA"
      },
      "source": [
        "### Instructions"
      ]
    },
    {
      "cell_type": "markdown",
      "metadata": {
        "id": "5LmebnZ2XRWB"
      },
      "source": [
        "* Before you submit the problem set, make sure everything runs as expected. Go to the menu bar at the top of Jupyter Notebook and click `Kernel > Restart & Run All` . Equivalently in Colab, `Runtime > Restart & Run All`. Your code should run from top to bottom with no errors. Failure to do this will result in loss of points.\n",
        "\n",
        "* Each problem has their own answer cell. Depending on the problem, the answer cell is a Markdown cell (to type text answers) or a Code cell (to type R code). Please write your answer in the designated cell. If you want to add addtional cells make sure to add them just below the designated cell.\n",
        "\n",
        "* After you done with running your code, use `Ctrl` or `⌘` + `p` then click `save as pdf` to save your homework as pdf file. Do not use pdf exporter feature of jupyter! You are not going to upload your `.ipynb` file, we just need the `.pdf`. It is your responsibility to ensure that your answers are clearly visible in the pdf file you upload to Canvas.\n",
        "\n",
        "* Use Slack `#hw2` channel to discuss the problems and ask for clarifications. But please be careful not to post an answer or part of an answer. Doing so may result in loss of points and/or disqualification from submitting the homework.\n",
        "\n",
        "* Late submissions will not be accepted (unless there is a documented emergency)."
      ]
    },
    {
      "cell_type": "markdown",
      "metadata": {
        "id": "8aQaYzN4XRWC"
      },
      "source": [
        "### Required Packages"
      ]
    },
    {
      "cell_type": "code",
      "metadata": {
        "colab": {
          "base_uri": "https://localhost:8080/"
        },
        "id": "jAHWvrp_XRWC",
        "outputId": "76e59dc2-0eb9-4b1a-de95-2b32062a93ea"
      },
      "source": [
        "library(tidyverse)"
      ],
      "execution_count": 1,
      "outputs": [
        {
          "output_type": "stream",
          "text": [
            "── \u001b[1mAttaching packages\u001b[22m ─────────────────────────────────────── tidyverse 1.3.0 ──\n",
            "\n",
            "\u001b[32m✔\u001b[39m \u001b[34mggplot2\u001b[39m 3.3.3     \u001b[32m✔\u001b[39m \u001b[34mpurrr  \u001b[39m 0.3.4\n",
            "\u001b[32m✔\u001b[39m \u001b[34mtibble \u001b[39m 3.0.6     \u001b[32m✔\u001b[39m \u001b[34mdplyr  \u001b[39m 1.0.4\n",
            "\u001b[32m✔\u001b[39m \u001b[34mtidyr  \u001b[39m 1.1.2     \u001b[32m✔\u001b[39m \u001b[34mstringr\u001b[39m 1.4.0\n",
            "\u001b[32m✔\u001b[39m \u001b[34mreadr  \u001b[39m 1.4.0     \u001b[32m✔\u001b[39m \u001b[34mforcats\u001b[39m 0.5.1\n",
            "\n",
            "── \u001b[1mConflicts\u001b[22m ────────────────────────────────────────── tidyverse_conflicts() ──\n",
            "\u001b[31m✖\u001b[39m \u001b[34mdplyr\u001b[39m::\u001b[32mfilter()\u001b[39m masks \u001b[34mstats\u001b[39m::filter()\n",
            "\u001b[31m✖\u001b[39m \u001b[34mdplyr\u001b[39m::\u001b[32mlag()\u001b[39m    masks \u001b[34mstats\u001b[39m::lag()\n",
            "\n"
          ],
          "name": "stderr"
        }
      ]
    },
    {
      "cell_type": "markdown",
      "metadata": {
        "id": "kT9Vl45xXRWD"
      },
      "source": [
        "### Problem 1, _5 points_"
      ]
    },
    {
      "cell_type": "markdown",
      "metadata": {
        "id": "8Ovq42JAXRWE"
      },
      "source": [
        "**(1)** Geometries have statistical transformation associated with them. Statistical transformations produce new **computed variables**. What is the statistical transformation associated with `geom_smooth`. Also list _all_ the computed variables that it computes. _1 point_"
      ]
    },
    {
      "cell_type": "markdown",
      "metadata": {
        "id": "6E75WFkNXRWE"
      },
      "source": [
        ""
      ]
    },
    {
      "cell_type": "markdown",
      "metadata": {
        "id": "OxZwzwQ-XRWE"
      },
      "source": [
        "**(2)** Write the `ggplot` command to produce the following plot using data from the `mpg` tibble. _2 points_\n",
        "![title](https://github.com/ambujtewari/stats306-winter2021/raw/main/homeworks/HW2/Rplot1.jpeg)"
      ]
    },
    {
      "cell_type": "code",
      "metadata": {
        "id": "W-Ite40oXRWE"
      },
      "source": [
        ""
      ],
      "execution_count": 2,
      "outputs": []
    },
    {
      "cell_type": "markdown",
      "metadata": {
        "id": "RJEcxelIXRWF"
      },
      "source": [
        "**(3)** Write the `ggplot` command to produce the following plot using data from the `mpg` tibble. _1 point_\n",
        "![title](https://github.com/ambujtewari/stats306-winter2021/raw/main/homeworks/HW2/Rplot2.jpeg)"
      ]
    },
    {
      "cell_type": "code",
      "metadata": {
        "id": "H3qWqnX1XRWF"
      },
      "source": [
        ""
      ],
      "execution_count": 3,
      "outputs": []
    },
    {
      "cell_type": "markdown",
      "metadata": {
        "id": "YFySCcd0XRWF"
      },
      "source": [
        "**(4)** Write the `ggplot` command to produce the following plot using data from the `mpg` tibble. _1 point_\n",
        "![title](https://github.com/ambujtewari/stats306-winter2021/raw/main/homeworks/HW2/Rplot3.jpeg)"
      ]
    },
    {
      "cell_type": "code",
      "metadata": {
        "id": "mPQqNK6iXRWG"
      },
      "source": [
        ""
      ],
      "execution_count": 4,
      "outputs": []
    },
    {
      "cell_type": "markdown",
      "metadata": {
        "id": "d8Oa7FORXRWG"
      },
      "source": [
        "### Problem 2, _5 points_"
      ]
    },
    {
      "cell_type": "markdown",
      "metadata": {
        "id": "f_0r9qoOXRWG"
      },
      "source": [
        "**(1)** Charlie wants all rows from the `mpg` tibble that have `hwy` values between 20 and 30 (inclusive). He types the command `filter(mpg, 20 <= hwy <= 30)` and gets an error. Why? Type the correct command for Charlie. _2 points_"
      ]
    },
    {
      "cell_type": "markdown",
      "metadata": {
        "id": "njBxyeD5XRWG"
      },
      "source": [
        ""
      ]
    },
    {
      "cell_type": "code",
      "metadata": {
        "id": "xmjBKzCVXRWG"
      },
      "source": [
        ""
      ],
      "execution_count": 5,
      "outputs": []
    },
    {
      "cell_type": "markdown",
      "metadata": {
        "id": "nnnBpZ1CXRWH"
      },
      "source": [
        "**(2)** Where does `arrange` place missing values? _1 point_"
      ]
    },
    {
      "cell_type": "markdown",
      "metadata": {
        "id": "wShY82j4XRWH"
      },
      "source": [
        ""
      ]
    },
    {
      "cell_type": "markdown",
      "metadata": {
        "id": "O7r3XWE6XRWH"
      },
      "source": [
        "**(3)** Write the command to rename the columns `cyl`, `drv`, `cty`, and `hwy` to `cylinders`, `drive`, `city` and `highway` respectively. _2 points_"
      ]
    },
    {
      "cell_type": "code",
      "metadata": {
        "id": "_TYfdZplXRWH"
      },
      "source": [
        ""
      ],
      "execution_count": 6,
      "outputs": []
    },
    {
      "cell_type": "markdown",
      "metadata": {
        "id": "dgC_Tg_lXRWI"
      },
      "source": [
        "### Problem 3, _5 points_"
      ]
    },
    {
      "cell_type": "markdown",
      "metadata": {
        "id": "ZzxrsYjnXRWI"
      },
      "source": [
        "**(1)** Write the code to execute the following steps using the `diamonds` data set. _4 points_\n",
        "\n",
        "- Add a new column `price_per_carat` which is the price of the diamond divided by its weight in carats\n",
        "- Sort the rows of the resulting tibble in descending order of `price_per_carat`\n",
        "- Retain only the top 1000 rows in the order above\n",
        "- For these 1000 rows, plot the distribution of `color` using a bar plot where your bars should be filled with the color `\"khaki\"`"
      ]
    },
    {
      "cell_type": "code",
      "metadata": {
        "id": "7c4gvU81XRWI"
      },
      "source": [
        ""
      ],
      "execution_count": 7,
      "outputs": []
    },
    {
      "cell_type": "markdown",
      "metadata": {
        "id": "nfskWNiYXRWI"
      },
      "source": [
        "**(2)** The bar plot for the `color` variable for the _entire_ tibble looks as follows. What is the main difference between the bar plot below and the one you got in part **(1)** above. _1 point_\n",
        "\n",
        "![title](https://github.com/ambujtewari/stats306-winter2021/raw/main/homeworks/HW2/Rplot4.jpeg)"
      ]
    },
    {
      "cell_type": "markdown",
      "metadata": {
        "id": "xHPe9nuQXRWJ"
      },
      "source": [
        ""
      ]
    },
    {
      "cell_type": "markdown",
      "metadata": {
        "id": "FinhV5JwXRWJ"
      },
      "source": [
        "### Problem 4, _5 points_"
      ]
    },
    {
      "cell_type": "markdown",
      "metadata": {
        "id": "FhQ2LMBzXRWJ"
      },
      "source": [
        "**(1)** Write the code to: _1.5 points_\n",
        "\n",
        "- create a tibble with two columns `manufacturer` and `mean_hwy`. The `mean_hwy` column should have the mean highway mileage of the cars they manufactured, and then\n",
        "- sort this tibble in ascending order of `mean_hwy`. "
      ]
    },
    {
      "cell_type": "code",
      "metadata": {
        "id": "WXOMZsH7XRWJ"
      },
      "source": [
        ""
      ],
      "execution_count": 8,
      "outputs": []
    },
    {
      "cell_type": "markdown",
      "metadata": {
        "id": "XDLr3S1SXRWJ"
      },
      "source": [
        "**(2)** Report the best (highest mileage) and worst (lowest mileage) manufacturer. _0.5 points_"
      ]
    },
    {
      "cell_type": "markdown",
      "metadata": {
        "id": "93nkrHudXRWJ"
      },
      "source": [
        ""
      ]
    },
    {
      "cell_type": "markdown",
      "metadata": {
        "id": "t8sFaTq0XRWK"
      },
      "source": [
        "**(3)** Alice is looking at the `mpg` tibble. Using `group_by()`, `summarize()`, `arrange()`, and pipes, she finds the following counts for the three possible types of drive trains.\n",
        "\n",
        "```\n",
        "# A tibble: 3 x 2\n",
        "  drv   count\n",
        "  <chr> <int>\n",
        "1 r        25\n",
        "2 4       103\n",
        "3 f       106\n",
        "```\n",
        "\n",
        "Write the command that Alice used to create the above output. _3 points_"
      ]
    },
    {
      "cell_type": "code",
      "metadata": {
        "id": "IxgM4oH-XRWK"
      },
      "source": [
        ""
      ],
      "execution_count": 9,
      "outputs": []
    }
  ]
}